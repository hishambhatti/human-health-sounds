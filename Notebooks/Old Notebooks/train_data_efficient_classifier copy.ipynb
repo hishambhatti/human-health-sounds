{
  "cells": [
    {
      "cell_type": "markdown",
      "metadata": {
        "id": "1fgVWTMK9SNz"
      },
      "source": [
        "~~~\n",
        "Copyright 2025 Google LLC\n",
        "\n",
        "Licensed under the Apache License, Version 2.0 (the \"License\");\n",
        "you may not use this file except in compliance with the License.\n",
        "You may obtain a copy of the License at\n",
        "\n",
        "    https://www.apache.org/licenses/LICENSE-2.0\n",
        "\n",
        "Unless required by applicable law or agreed to in writing, software\n",
        "distributed under the License is distributed on an \"AS IS\" BASIS,\n",
        "WITHOUT WARRANTIES OR CONDITIONS OF ANY KIND, either express or implied.\n",
        "See the License for the specific language governing permissions and\n",
        "limitations under the License.\n",
        "~~~\n",
        "\n",
        "# Classifying sounds with HeAR and Wiki Commons Cough Data\n",
        "\n",
        "<table><tbody><tr>\n",
        "  <td style=\"text-align: center\">\n",
        "    <a href=\"https://colab.research.google.com/github/google-health/hear/blob/master/notebooks/train_data_efficient_classifier.ipynb\">\n",
        "      <img alt=\"Google Colab logo\" src=\"https://www.tensorflow.org/images/colab_logo_32px.png\" width=\"32px\"><br> Run in Google Colab\n",
        "    </a>\n",
        "  </td>  \n",
        "  <td style=\"text-align: center\">\n",
        "    <a href=\"https://github.com/google-health/hear/blob/master/notebooks/train_data_efficient_classifier.ipynb\">\n",
        "      <img alt=\"GitHub logo\" src=\"https://github.githubassets.com/assets/GitHub-Mark-ea2971cee799.png\" width=\"32px\"><br> View on GitHub\n",
        "    </a>\n",
        "  </td>\n",
        "  <td style=\"text-align: center\">\n",
        "    <a href=\"https://huggingface.co/google/hear\">\n",
        "      <img alt=\"Hugging Face logo\" src=\"https://huggingface.co/front/assets/huggingface_logo-noborder.svg\" width=\"32px\"><br> View on Hugging Face\n",
        "    </a>\n",
        "  </td>\n",
        "</tr></tbody></table>\n",
        "\n",
        "\n",
        "This Colab notebook demonstrates how to use the HeAR (Health Acoustic Representations) model, directly from Hugging Face, to create and utilize embeddings from health-related audio. The notebook focuses on building a data-efficient cough classifier system using a small [Wikimedia Commons](https://commons.wikimedia.org/wiki/Commons:Welcome) dataset of relevant sounds.\n",
        "\n",
        "Embeddings are compact, numerical representations of audio data that capture important features, making them suitable for training machine learning models with limited data and computational resources. Learn more about embeddings and their benefits at [this page](https://developers.google.com/health-ai-developer-foundations/hear).\n",
        "\n",
        "#### Here's a breakdown of the notebook's steps:\n",
        "\n",
        "1.  **Model Loading:** The HeAR model is loaded from the Hugging Face Hub (requires authentication with your Hugging Face account).\n",
        "\n",
        "2.  **Dataset Creation:**\n",
        "    *   **Wikimedia Commons Audio:** A small set of audio files is downloaded from Wikimedia Commons. This dataset includes examples of coughing, as well as other sounds like sneezing, breathing, laughter, and door knocking. The files are all publicly available under various Creative Commons licenses (details are available on Wikimedia Commons).\n",
        "    *   **Microphone Recording:** The notebook provides functionality to record audio directly within Colab using your microphone. This allows you to add your own recordings to the dataset.\n",
        "\n",
        "3.  **Embedding Generation:**\n",
        "    *   **Preprocessing:** The downloaded and recorded audio files are loaded and processed using `librosa`. They are resampled to 16kHz (required by the HeAR model) and segmented into 2-second clips.\n",
        "    *   **Inference:** The preprocessed 2-second audio clips are fed to the HeAR model to generate embeddings. Each clip produces a 512-dimensional HeAR embedding vector.\n",
        "    *   **Visualization (Optional):** The notebook includes functions to display the audio waveform, Mel spectrogram, and an audio player for each file and its individual clips.\n",
        "\n",
        "4.  **Classifier Training:**\n",
        "    *   **Labeling:** A set of labels is manually created, associating each audio file with whether it contains a cough or not. For example, `Cough_1.ogg` is labeled as `True`, while `Laughter.ogg` is labeled as `False`.\n",
        "    *   **Model Selection:** Several scikit-learn classifiers are used and can easily be expanded, including:\n",
        "        *   Support Vector Machine (linear kernel)\n",
        "        *   Logistic Regression\n",
        "        *   Gradient Boosting\n",
        "        *   Random Forest\n",
        "        *   Multi-layer Perceptron (MLP)\n",
        "    *   **Training:** Each classifier is trained using the generated HeAR embeddings and the corresponding cough labels. This demonstrates the data efficiency of using embeddings – these models train quickly with very little data.\n",
        "\n",
        "5.  **Cough Classification:**\n",
        "    *   **Test on New Example:** Test the classfier on held out cough or non-cough sound examples.\n",
        "    *   **Test on New Recording:** The microphone recording function is used again to capture a new audio clip (presumably of the user coughing or not coughing).\n",
        "    *   **Prediction:** The new clip is preprocessed, its embedding is generated using the HeAR model, and then each of the trained classifiers is used to predict whether the clip contains a cough.\n",
        "\n",
        "6.  **Embedding Visualization:**\n",
        "    *   **PCA Plot:** A plot visualizing the data points in a PCA space is presented to show how similar sounds are grouped together, as they have similar embeddings.\n",
        "    *   **Barcode Visualization:** The embeddings are visualized as \"barcodes\". Each embedding is displayed as a row in a heatmap, showing the magnitude of each dimension after subtracting the global mean. This provides a visual representation of the embedding's structure.\n"
      ]
    },
    {
      "cell_type": "markdown",
      "metadata": {
        "id": "_uZFXCSuqr1V"
      },
      "source": [
        "## Authenticate with HuggingFace, skip if you have a HF_TOKEN secret"
      ]
    },
    {
      "cell_type": "code",
      "execution_count": 1,
      "metadata": {
        "id": "l-5Tj0uqS3dI"
      },
      "outputs": [],
      "source": [
        "from huggingface_hub.utils import HfFolder\n",
        "\n",
        "if HfFolder.get_token() is None:\n",
        "    from huggingface_hub import notebook_login\n",
        "    notebook_login()"
      ]
    },
    {
      "cell_type": "markdown",
      "metadata": {
        "id": "40C0ubVPS3dI"
      },
      "source": [
        "## Setup HeAR Hugging Face Model"
      ]
    },
    {
      "cell_type": "markdown",
      "metadata": {},
      "source": [
        "Note: This was originally taken from Google Colab, so now on M1 chip locally, might wanna do some sort of GPU instead of tensorflow\n",
        "\n",
        "Looks like pip install tensorflow-macos tensorflow-metal is an idea, but that's a later issue"
      ]
    },
    {
      "cell_type": "code",
      "execution_count": null,
      "metadata": {},
      "outputs": [],
      "source": [
        "## TODO: I'm not entirely sure what happened, seems like it ran some of this code to actually\n",
        "## download the model, but wasn't able to complete it\n",
        "\n",
        "## And thenI ran the code below to use the HeAR model, so going forward to fix it and have\n",
        "## only one cell working, I'm not entirely sure how we'll do that"
      ]
    },
    {
      "cell_type": "code",
      "execution_count": 2,
      "metadata": {
        "id": "hqB4-dSUeQKe"
      },
      "outputs": [
        {
          "data": {
            "application/vnd.jupyter.widget-view+json": {
              "model_id": "b48a94e495f445a5bc152dece3cb8895",
              "version_major": 2,
              "version_minor": 0
            },
            "text/plain": [
              "Fetching 24 files:   0%|          | 0/24 [00:00<?, ?it/s]"
            ]
          },
          "metadata": {},
          "output_type": "display_data"
        },
        {
          "data": {
            "application/vnd.jupyter.widget-view+json": {
              "model_id": "0dda575f4f574ceebe4d8a0b490a725d",
              "version_major": 2,
              "version_minor": 0
            },
            "text/plain": [
              "event_detector/event_detector_large/save(…):   0%|          | 0.00/4.89M [00:00<?, ?B/s]"
            ]
          },
          "metadata": {},
          "output_type": "display_data"
        },
        {
          "data": {
            "application/vnd.jupyter.widget-view+json": {
              "model_id": "b07cd791839b4a2ebb1a62c45e75f4b9",
              "version_major": 2,
              "version_minor": 0
            },
            "text/plain": [
              "event_detector/event_detector_large/kera(…):   0%|          | 0.00/760k [00:00<?, ?B/s]"
            ]
          },
          "metadata": {},
          "output_type": "display_data"
        },
        {
          "data": {
            "application/vnd.jupyter.widget-view+json": {
              "model_id": "4e2c0540341043008c2a8da9e7c68c3a",
              "version_major": 2,
              "version_minor": 0
            },
            "text/plain": [
              ".gitattributes:   0%|          | 0.00/1.82k [00:00<?, ?B/s]"
            ]
          },
          "metadata": {},
          "output_type": "display_data"
        },
        {
          "data": {
            "application/vnd.jupyter.widget-view+json": {
              "model_id": "d75e777c56974d8abd799667478293f1",
              "version_major": 2,
              "version_minor": 0
            },
            "text/plain": [
              "README.md:   0%|          | 0.00/3.24k [00:00<?, ?B/s]"
            ]
          },
          "metadata": {},
          "output_type": "display_data"
        },
        {
          "data": {
            "application/vnd.jupyter.widget-view+json": {
              "model_id": "d6d3378bd5e746e7b196d88240a0a73b",
              "version_major": 2,
              "version_minor": 0
            },
            "text/plain": [
              "README.md:   0%|          | 0.00/11.9k [00:00<?, ?B/s]"
            ]
          },
          "metadata": {},
          "output_type": "display_data"
        },
        {
          "data": {
            "application/vnd.jupyter.widget-view+json": {
              "model_id": "62bae7b851be4dd0b0367a480feeabb7",
              "version_major": 2,
              "version_minor": 0
            },
            "text/plain": [
              "event_detector/event_detector_large/vari(…):   0%|          | 0.00/12.2M [00:00<?, ?B/s]"
            ]
          },
          "metadata": {},
          "output_type": "display_data"
        },
        {
          "data": {
            "application/vnd.jupyter.widget-view+json": {
              "model_id": "21f4e539dd9d440ea322f206c1bccaf7",
              "version_major": 2,
              "version_minor": 0
            },
            "text/plain": [
              ".DS_Store:   0%|          | 0.00/6.15k [00:00<?, ?B/s]"
            ]
          },
          "metadata": {},
          "output_type": "display_data"
        },
        {
          "data": {
            "application/vnd.jupyter.widget-view+json": {
              "model_id": "f18c101e7c8442c9bc4b572e2de54908",
              "version_major": 2,
              "version_minor": 0
            },
            "text/plain": [
              "event_detector/event_detector_large/fing(…):   0%|          | 0.00/79.0 [00:00<?, ?B/s]"
            ]
          },
          "metadata": {},
          "output_type": "display_data"
        },
        {
          "data": {
            "application/vnd.jupyter.widget-view+json": {
              "model_id": "67f4e76f7f2945bc95527f8c4bccf805",
              "version_major": 2,
              "version_minor": 0
            },
            "text/plain": [
              "event_detector/event_detector_small/fing(…):   0%|          | 0.00/76.0 [00:00<?, ?B/s]"
            ]
          },
          "metadata": {},
          "output_type": "display_data"
        },
        {
          "data": {
            "application/vnd.jupyter.widget-view+json": {
              "model_id": "7ef7b1fd0eef43e1be28d7c9d8b86f50",
              "version_major": 2,
              "version_minor": 0
            },
            "text/plain": [
              "variables.index:   0%|          | 0.00/5.08k [00:00<?, ?B/s]"
            ]
          },
          "metadata": {},
          "output_type": "display_data"
        },
        {
          "data": {
            "application/vnd.jupyter.widget-view+json": {
              "model_id": "09b86be2f1924ae2b5dce0dc5af56d45",
              "version_major": 2,
              "version_minor": 0
            },
            "text/plain": [
              "event_detector/event_detector_small/kera(…):   0%|          | 0.00/644k [00:00<?, ?B/s]"
            ]
          },
          "metadata": {},
          "output_type": "display_data"
        },
        {
          "data": {
            "application/vnd.jupyter.widget-view+json": {
              "model_id": "4bddf35a87a64eb888bbafc3647fba44",
              "version_major": 2,
              "version_minor": 0
            },
            "text/plain": [
              "event_detector/event_detector_small/save(…):   0%|          | 0.00/4.01M [00:00<?, ?B/s]"
            ]
          },
          "metadata": {},
          "output_type": "display_data"
        },
        {
          "data": {
            "application/vnd.jupyter.widget-view+json": {
              "model_id": "815ace524dd04c5f80e517dc94f8f8a6",
              "version_major": 2,
              "version_minor": 0
            },
            "text/plain": [
              "event_detector/event_detector_small/vari(…):   0%|          | 0.00/3.95M [00:00<?, ?B/s]"
            ]
          },
          "metadata": {},
          "output_type": "display_data"
        },
        {
          "data": {
            "application/vnd.jupyter.widget-view+json": {
              "model_id": "2510304d53e84122a5b66d7a460dbdb2",
              "version_major": 2,
              "version_minor": 0
            },
            "text/plain": [
              "event_detector/spectrogram_frontend/fing(…):   0%|          | 0.00/55.0 [00:00<?, ?B/s]"
            ]
          },
          "metadata": {},
          "output_type": "display_data"
        },
        {
          "data": {
            "application/vnd.jupyter.widget-view+json": {
              "model_id": "48bc2527339f40bfaf7daade222b8235",
              "version_major": 2,
              "version_minor": 0
            },
            "text/plain": [
              "variables.index:   0%|          | 0.00/4.21k [00:00<?, ?B/s]"
            ]
          },
          "metadata": {},
          "output_type": "display_data"
        },
        {
          "data": {
            "application/vnd.jupyter.widget-view+json": {
              "model_id": "d03285565fc44777bc755443cd4f26d2",
              "version_major": 2,
              "version_minor": 0
            },
            "text/plain": [
              "event_detector/spectrogram_frontend/kera(…):   0%|          | 0.00/10.7k [00:00<?, ?B/s]"
            ]
          },
          "metadata": {},
          "output_type": "display_data"
        },
        {
          "data": {
            "application/vnd.jupyter.widget-view+json": {
              "model_id": "cd5174e0ab734a9eb025f88c8b02584e",
              "version_major": 2,
              "version_minor": 0
            },
            "text/plain": [
              "event_detector/spectrogram_frontend/save(…):   0%|          | 0.00/340k [00:00<?, ?B/s]"
            ]
          },
          "metadata": {},
          "output_type": "display_data"
        },
        {
          "data": {
            "application/vnd.jupyter.widget-view+json": {
              "model_id": "b68941a6217f4e45899dba7ab0d4a3a7",
              "version_major": 2,
              "version_minor": 0
            },
            "text/plain": [
              "variables.data-00000-of-00001:   0%|          | 0.00/24.1k [00:00<?, ?B/s]"
            ]
          },
          "metadata": {},
          "output_type": "display_data"
        },
        {
          "data": {
            "application/vnd.jupyter.widget-view+json": {
              "model_id": "bdacceaa9ac9495291b9a009589f7a9c",
              "version_major": 2,
              "version_minor": 0
            },
            "text/plain": [
              "variables.index:   0%|          | 0.00/286 [00:00<?, ?B/s]"
            ]
          },
          "metadata": {},
          "output_type": "display_data"
        },
        {
          "data": {
            "application/vnd.jupyter.widget-view+json": {
              "model_id": "39b36d32ec474acbbfa045a76ac5c8b0",
              "version_major": 2,
              "version_minor": 0
            },
            "text/plain": [
              "fingerprint.pb:   0%|          | 0.00/78.0 [00:00<?, ?B/s]"
            ]
          },
          "metadata": {},
          "output_type": "display_data"
        },
        {
          "data": {
            "application/vnd.jupyter.widget-view+json": {
              "model_id": "4e8386bedd724764bc5ed627f4614e6a",
              "version_major": 2,
              "version_minor": 0
            },
            "text/plain": [
              "gitattributes:   0%|          | 0.00/1.59k [00:00<?, ?B/s]"
            ]
          },
          "metadata": {},
          "output_type": "display_data"
        },
        {
          "data": {
            "application/vnd.jupyter.widget-view+json": {
              "model_id": "d5655cb2b8de40ea8acdaeb6020789b6",
              "version_major": 2,
              "version_minor": 0
            },
            "text/plain": [
              "variables/variables.data-00000-of-00001:   0%|          | 0.00/1.21G [00:00<?, ?B/s]"
            ]
          },
          "metadata": {},
          "output_type": "display_data"
        },
        {
          "data": {
            "application/vnd.jupyter.widget-view+json": {
              "model_id": "949ed2858b9e466296c0c6b09b0a224d",
              "version_major": 2,
              "version_minor": 0
            },
            "text/plain": [
              "saved_model.pb:   0%|          | 0.00/3.98M [00:00<?, ?B/s]"
            ]
          },
          "metadata": {},
          "output_type": "display_data"
        },
        {
          "data": {
            "application/vnd.jupyter.widget-view+json": {
              "model_id": "7fc4c2f3d5924f81bf54b858d67b9bef",
              "version_major": 2,
              "version_minor": 0
            },
            "text/plain": [
              "variables.index:   0%|          | 0.00/6.57k [00:00<?, ?B/s]"
            ]
          },
          "metadata": {},
          "output_type": "display_data"
        },
        {
          "ename": "ValueError",
          "evalue": "File format not supported: filepath=/Users/hishambhatti/.cache/huggingface/hub/models--google--hear/snapshots/9b2eb2853c426676255cc6ac5804b7f1fe8e563f. Keras 3 only supports V3 `.keras` files and legacy H5 format files (`.h5` extension). Note that the legacy SavedModel format is not supported by `load_model()` in Keras 3. In order to reload a TensorFlow SavedModel as an inference-only layer in Keras 3, use `keras.layers.TFSMLayer(/Users/hishambhatti/.cache/huggingface/hub/models--google--hear/snapshots/9b2eb2853c426676255cc6ac5804b7f1fe8e563f, call_endpoint='serving_default')` (note that your `call_endpoint` might have a different name).",
          "output_type": "error",
          "traceback": [
            "\u001b[31m---------------------------------------------------------------------------\u001b[39m",
            "\u001b[31mValueError\u001b[39m                                Traceback (most recent call last)",
            "\u001b[36mCell\u001b[39m\u001b[36m \u001b[39m\u001b[32mIn[2]\u001b[39m\u001b[32m, line 4\u001b[39m\n\u001b[32m      1\u001b[39m \u001b[38;5;28;01mfrom\u001b[39;00m\u001b[38;5;250m \u001b[39m\u001b[34;01mhuggingface_hub\u001b[39;00m\u001b[38;5;250m \u001b[39m\u001b[38;5;28;01mimport\u001b[39;00m from_pretrained_keras\n\u001b[32m      3\u001b[39m \u001b[38;5;66;03m# Load the model directly from Hugging Face Hub\u001b[39;00m\n\u001b[32m----> \u001b[39m\u001b[32m4\u001b[39m loaded_model = \u001b[43mfrom_pretrained_keras\u001b[49m\u001b[43m(\u001b[49m\u001b[33;43m\"\u001b[39;49m\u001b[33;43mgoogle/hear\u001b[39;49m\u001b[33;43m\"\u001b[39;49m\u001b[43m)\u001b[49m\n\u001b[32m      5\u001b[39m \u001b[38;5;66;03m# Inference function for embedding generation\u001b[39;00m\n\u001b[32m      6\u001b[39m infer = loaded_model.signatures[\u001b[33m\"\u001b[39m\u001b[33mserving_default\u001b[39m\u001b[33m\"\u001b[39m]\n",
            "\u001b[36mFile \u001b[39m\u001b[32m~/Desktop/Projects/human-health-sounds/.venv/lib/python3.13/site-packages/huggingface_hub/keras_mixin.py:293\u001b[39m, in \u001b[36mfrom_pretrained_keras\u001b[39m\u001b[34m(*args, **kwargs)\u001b[39m\n\u001b[32m    240\u001b[39m \u001b[38;5;28;01mdef\u001b[39;00m\u001b[38;5;250m \u001b[39m\u001b[34mfrom_pretrained_keras\u001b[39m(*args, **kwargs) -> \u001b[33m\"\u001b[39m\u001b[33mKerasModelHubMixin\u001b[39m\u001b[33m\"\u001b[39m:\n\u001b[32m    241\u001b[39m \u001b[38;5;250m    \u001b[39m\u001b[33mr\u001b[39m\u001b[33;03m\"\"\"\u001b[39;00m\n\u001b[32m    242\u001b[39m \u001b[33;03m    Instantiate a pretrained Keras model from a pre-trained model from the Hub.\u001b[39;00m\n\u001b[32m    243\u001b[39m \u001b[33;03m    The model is expected to be in `SavedModel` format.\u001b[39;00m\n\u001b[32m   (...)\u001b[39m\u001b[32m    291\u001b[39m \u001b[33;03m    </Tip>\u001b[39;00m\n\u001b[32m    292\u001b[39m \u001b[33;03m    \"\"\"\u001b[39;00m\n\u001b[32m--> \u001b[39m\u001b[32m293\u001b[39m     \u001b[38;5;28;01mreturn\u001b[39;00m \u001b[43mKerasModelHubMixin\u001b[49m\u001b[43m.\u001b[49m\u001b[43mfrom_pretrained\u001b[49m\u001b[43m(\u001b[49m\u001b[43m*\u001b[49m\u001b[43margs\u001b[49m\u001b[43m,\u001b[49m\u001b[43m \u001b[49m\u001b[43m*\u001b[49m\u001b[43m*\u001b[49m\u001b[43mkwargs\u001b[49m\u001b[43m)\u001b[49m\n",
            "\u001b[36mFile \u001b[39m\u001b[32m~/Desktop/Projects/human-health-sounds/.venv/lib/python3.13/site-packages/huggingface_hub/utils/_validators.py:114\u001b[39m, in \u001b[36mvalidate_hf_hub_args.<locals>._inner_fn\u001b[39m\u001b[34m(*args, **kwargs)\u001b[39m\n\u001b[32m    111\u001b[39m \u001b[38;5;28;01mif\u001b[39;00m check_use_auth_token:\n\u001b[32m    112\u001b[39m     kwargs = smoothly_deprecate_use_auth_token(fn_name=fn.\u001b[34m__name__\u001b[39m, has_token=has_token, kwargs=kwargs)\n\u001b[32m--> \u001b[39m\u001b[32m114\u001b[39m \u001b[38;5;28;01mreturn\u001b[39;00m \u001b[43mfn\u001b[49m\u001b[43m(\u001b[49m\u001b[43m*\u001b[49m\u001b[43margs\u001b[49m\u001b[43m,\u001b[49m\u001b[43m \u001b[49m\u001b[43m*\u001b[49m\u001b[43m*\u001b[49m\u001b[43mkwargs\u001b[49m\u001b[43m)\u001b[49m\n",
            "\u001b[36mFile \u001b[39m\u001b[32m~/Desktop/Projects/human-health-sounds/.venv/lib/python3.13/site-packages/huggingface_hub/hub_mixin.py:568\u001b[39m, in \u001b[36mModelHubMixin.from_pretrained\u001b[39m\u001b[34m(cls, pretrained_model_name_or_path, force_download, resume_download, proxies, token, cache_dir, local_files_only, revision, **model_kwargs)\u001b[39m\n\u001b[32m    565\u001b[39m     \u001b[38;5;28;01mif\u001b[39;00m \u001b[38;5;28mcls\u001b[39m._hub_mixin_inject_config \u001b[38;5;129;01mand\u001b[39;00m \u001b[33m\"\u001b[39m\u001b[33mconfig\u001b[39m\u001b[33m\"\u001b[39m \u001b[38;5;129;01mnot\u001b[39;00m \u001b[38;5;129;01min\u001b[39;00m model_kwargs:\n\u001b[32m    566\u001b[39m         model_kwargs[\u001b[33m\"\u001b[39m\u001b[33mconfig\u001b[39m\u001b[33m\"\u001b[39m] = config\n\u001b[32m--> \u001b[39m\u001b[32m568\u001b[39m instance = \u001b[38;5;28;43mcls\u001b[39;49m\u001b[43m.\u001b[49m\u001b[43m_from_pretrained\u001b[49m\u001b[43m(\u001b[49m\n\u001b[32m    569\u001b[39m \u001b[43m    \u001b[49m\u001b[43mmodel_id\u001b[49m\u001b[43m=\u001b[49m\u001b[38;5;28;43mstr\u001b[39;49m\u001b[43m(\u001b[49m\u001b[43mmodel_id\u001b[49m\u001b[43m)\u001b[49m\u001b[43m,\u001b[49m\n\u001b[32m    570\u001b[39m \u001b[43m    \u001b[49m\u001b[43mrevision\u001b[49m\u001b[43m=\u001b[49m\u001b[43mrevision\u001b[49m\u001b[43m,\u001b[49m\n\u001b[32m    571\u001b[39m \u001b[43m    \u001b[49m\u001b[43mcache_dir\u001b[49m\u001b[43m=\u001b[49m\u001b[43mcache_dir\u001b[49m\u001b[43m,\u001b[49m\n\u001b[32m    572\u001b[39m \u001b[43m    \u001b[49m\u001b[43mforce_download\u001b[49m\u001b[43m=\u001b[49m\u001b[43mforce_download\u001b[49m\u001b[43m,\u001b[49m\n\u001b[32m    573\u001b[39m \u001b[43m    \u001b[49m\u001b[43mproxies\u001b[49m\u001b[43m=\u001b[49m\u001b[43mproxies\u001b[49m\u001b[43m,\u001b[49m\n\u001b[32m    574\u001b[39m \u001b[43m    \u001b[49m\u001b[43mresume_download\u001b[49m\u001b[43m=\u001b[49m\u001b[43mresume_download\u001b[49m\u001b[43m,\u001b[49m\n\u001b[32m    575\u001b[39m \u001b[43m    \u001b[49m\u001b[43mlocal_files_only\u001b[49m\u001b[43m=\u001b[49m\u001b[43mlocal_files_only\u001b[49m\u001b[43m,\u001b[49m\n\u001b[32m    576\u001b[39m \u001b[43m    \u001b[49m\u001b[43mtoken\u001b[49m\u001b[43m=\u001b[49m\u001b[43mtoken\u001b[49m\u001b[43m,\u001b[49m\n\u001b[32m    577\u001b[39m \u001b[43m    \u001b[49m\u001b[43m*\u001b[49m\u001b[43m*\u001b[49m\u001b[43mmodel_kwargs\u001b[49m\u001b[43m,\u001b[49m\n\u001b[32m    578\u001b[39m \u001b[43m\u001b[49m\u001b[43m)\u001b[49m\n\u001b[32m    580\u001b[39m \u001b[38;5;66;03m# Implicitly set the config as instance attribute if not already set by the class\u001b[39;00m\n\u001b[32m    581\u001b[39m \u001b[38;5;66;03m# This way `config` will be available when calling `save_pretrained` or `push_to_hub`.\u001b[39;00m\n\u001b[32m    582\u001b[39m \u001b[38;5;28;01mif\u001b[39;00m config \u001b[38;5;129;01mis\u001b[39;00m \u001b[38;5;129;01mnot\u001b[39;00m \u001b[38;5;28;01mNone\u001b[39;00m \u001b[38;5;129;01mand\u001b[39;00m (\u001b[38;5;28mgetattr\u001b[39m(instance, \u001b[33m\"\u001b[39m\u001b[33m_hub_mixin_config\u001b[39m\u001b[33m\"\u001b[39m, \u001b[38;5;28;01mNone\u001b[39;00m) \u001b[38;5;129;01min\u001b[39;00m (\u001b[38;5;28;01mNone\u001b[39;00m, {})):\n",
            "\u001b[36mFile \u001b[39m\u001b[32m~/Desktop/Projects/human-health-sounds/.venv/lib/python3.13/site-packages/huggingface_hub/keras_mixin.py:495\u001b[39m, in \u001b[36mKerasModelHubMixin._from_pretrained\u001b[39m\u001b[34m(cls, model_id, revision, cache_dir, force_download, proxies, resume_download, local_files_only, token, config, **model_kwargs)\u001b[39m\n\u001b[32m    492\u001b[39m     storage_folder = model_id\n\u001b[32m    494\u001b[39m \u001b[38;5;66;03m# TODO: change this in a future PR. We are not returning a KerasModelHubMixin instance here...\u001b[39;00m\n\u001b[32m--> \u001b[39m\u001b[32m495\u001b[39m model = \u001b[43mkeras\u001b[49m\u001b[43m.\u001b[49m\u001b[43mmodels\u001b[49m\u001b[43m.\u001b[49m\u001b[43mload_model\u001b[49m\u001b[43m(\u001b[49m\u001b[43mstorage_folder\u001b[49m\u001b[43m)\u001b[49m\n\u001b[32m    497\u001b[39m \u001b[38;5;66;03m# For now, we add a new attribute, config, to store the config loaded from the hub/a local dir.\u001b[39;00m\n\u001b[32m    498\u001b[39m model.config = config\n",
            "\u001b[36mFile \u001b[39m\u001b[32m~/Desktop/Projects/human-health-sounds/.venv/lib/python3.13/site-packages/keras/src/saving/saving_api.py:209\u001b[39m, in \u001b[36mload_model\u001b[39m\u001b[34m(filepath, custom_objects, compile, safe_mode)\u001b[39m\n\u001b[32m    203\u001b[39m     \u001b[38;5;28;01mraise\u001b[39;00m \u001b[38;5;167;01mValueError\u001b[39;00m(\n\u001b[32m    204\u001b[39m         \u001b[33mf\u001b[39m\u001b[33m\"\u001b[39m\u001b[33mFile not found: filepath=\u001b[39m\u001b[38;5;132;01m{\u001b[39;00mfilepath\u001b[38;5;132;01m}\u001b[39;00m\u001b[33m. \u001b[39m\u001b[33m\"\u001b[39m\n\u001b[32m    205\u001b[39m         \u001b[33m\"\u001b[39m\u001b[33mPlease ensure the file is an accessible `.keras` \u001b[39m\u001b[33m\"\u001b[39m\n\u001b[32m    206\u001b[39m         \u001b[33m\"\u001b[39m\u001b[33mzip file.\u001b[39m\u001b[33m\"\u001b[39m\n\u001b[32m    207\u001b[39m     )\n\u001b[32m    208\u001b[39m \u001b[38;5;28;01melse\u001b[39;00m:\n\u001b[32m--> \u001b[39m\u001b[32m209\u001b[39m     \u001b[38;5;28;01mraise\u001b[39;00m \u001b[38;5;167;01mValueError\u001b[39;00m(\n\u001b[32m    210\u001b[39m         \u001b[33mf\u001b[39m\u001b[33m\"\u001b[39m\u001b[33mFile format not supported: filepath=\u001b[39m\u001b[38;5;132;01m{\u001b[39;00mfilepath\u001b[38;5;132;01m}\u001b[39;00m\u001b[33m. \u001b[39m\u001b[33m\"\u001b[39m\n\u001b[32m    211\u001b[39m         \u001b[33m\"\u001b[39m\u001b[33mKeras 3 only supports V3 `.keras` files and \u001b[39m\u001b[33m\"\u001b[39m\n\u001b[32m    212\u001b[39m         \u001b[33m\"\u001b[39m\u001b[33mlegacy H5 format files (`.h5` extension). \u001b[39m\u001b[33m\"\u001b[39m\n\u001b[32m    213\u001b[39m         \u001b[33m\"\u001b[39m\u001b[33mNote that the legacy SavedModel format is not \u001b[39m\u001b[33m\"\u001b[39m\n\u001b[32m    214\u001b[39m         \u001b[33m\"\u001b[39m\u001b[33msupported by `load_model()` in Keras 3. In \u001b[39m\u001b[33m\"\u001b[39m\n\u001b[32m    215\u001b[39m         \u001b[33m\"\u001b[39m\u001b[33morder to reload a TensorFlow SavedModel as an \u001b[39m\u001b[33m\"\u001b[39m\n\u001b[32m    216\u001b[39m         \u001b[33m\"\u001b[39m\u001b[33minference-only layer in Keras 3, use \u001b[39m\u001b[33m\"\u001b[39m\n\u001b[32m    217\u001b[39m         \u001b[33m\"\u001b[39m\u001b[33m`keras.layers.TFSMLayer(\u001b[39m\u001b[33m\"\u001b[39m\n\u001b[32m    218\u001b[39m         \u001b[33mf\u001b[39m\u001b[33m\"\u001b[39m\u001b[38;5;132;01m{\u001b[39;00mfilepath\u001b[38;5;132;01m}\u001b[39;00m\u001b[33m, call_endpoint=\u001b[39m\u001b[33m'\u001b[39m\u001b[33mserving_default\u001b[39m\u001b[33m'\u001b[39m\u001b[33m)` \u001b[39m\u001b[33m\"\u001b[39m\n\u001b[32m    219\u001b[39m         \u001b[33m\"\u001b[39m\u001b[33m(note that your `call_endpoint` \u001b[39m\u001b[33m\"\u001b[39m\n\u001b[32m    220\u001b[39m         \u001b[33m\"\u001b[39m\u001b[33mmight have a different name).\u001b[39m\u001b[33m\"\u001b[39m\n\u001b[32m    221\u001b[39m     )\n",
            "\u001b[31mValueError\u001b[39m: File format not supported: filepath=/Users/hishambhatti/.cache/huggingface/hub/models--google--hear/snapshots/9b2eb2853c426676255cc6ac5804b7f1fe8e563f. Keras 3 only supports V3 `.keras` files and legacy H5 format files (`.h5` extension). Note that the legacy SavedModel format is not supported by `load_model()` in Keras 3. In order to reload a TensorFlow SavedModel as an inference-only layer in Keras 3, use `keras.layers.TFSMLayer(/Users/hishambhatti/.cache/huggingface/hub/models--google--hear/snapshots/9b2eb2853c426676255cc6ac5804b7f1fe8e563f, call_endpoint='serving_default')` (note that your `call_endpoint` might have a different name)."
          ]
        }
      ],
      "source": [
        "from huggingface_hub import from_pretrained_keras\n",
        "\n",
        "# Load the model directly from Hugging Face Hub\n",
        "loaded_model = from_pretrained_keras(\"google/hear\")\n",
        "# Inference function for embedding generation\n",
        "infer = loaded_model.signatures[\"serving_default\"]\n",
        "\n",
        "# HeAR Parameters\n",
        "SAMPLE_RATE = 16000  # Samples per second (Hz)\n",
        "CLIP_DURATION = 2    # Duration of the audio clip in seconds\n",
        "CLIP_LENGTH = SAMPLE_RATE * CLIP_DURATION  # Total number of samples\n"
      ]
    },
    {
      "cell_type": "code",
      "execution_count": 12,
      "metadata": {},
      "outputs": [
        {
          "name": "stderr",
          "output_type": "stream",
          "text": [
            "WARNING:absl:Importing a function (__inference_internal_grad_fn_21425) with ops with unsaved custom gradients. Will likely fail if a gradient is requested.\n",
            "WARNING:absl:Importing a function (__inference_internal_grad_fn_17891) with ops with unsaved custom gradients. Will likely fail if a gradient is requested.\n",
            "2025-10-06 14:04:18.142646: I external/local_xla/xla/service/service.cc:163] XLA service 0x16b90b460 initialized for platform Host (this does not guarantee that XLA will be used). Devices:\n",
            "2025-10-06 14:04:18.142688: I external/local_xla/xla/service/service.cc:171]   StreamExecutor device (0): Host, Default Version\n",
            "WARNING: All log messages before absl::InitializeLog() is called are written to STDERR\n",
            "I0000 00:00:1759784659.672143 19835482 device_compiler.h:196] Compiled cluster using XLA!  This line is logged at most once for the lifetime of the process.\n"
          ]
        },
        {
          "name": "stdout",
          "output_type": "stream",
          "text": [
            "{'output_0': <tf.Tensor: shape=(1, 512), dtype=float32, numpy=\n",
            "array([[  1.1726265 ,  -6.7566094 ,   5.3163095 ,  -3.9554539 ,\n",
            "         -1.757076  ,  -4.255958  ,  -5.570771  ,  -2.9013546 ,\n",
            "         -3.8126602 ,   1.624914  ,   1.518931  ,   5.954718  ,\n",
            "         -2.9484284 ,   6.280806  ,   6.503013  ,   4.5953546 ,\n",
            "         -0.9080836 ,  -2.8162997 ,  13.122832  ,  -8.804673  ,\n",
            "          4.8481956 ,   2.533113  ,  -1.6121652 ,   6.7243857 ,\n",
            "        -11.571278  ,  -2.8790016 ,   2.1489282 ,  -0.50289446,\n",
            "         11.487478  ,  -8.143041  ,  -2.8054008 ,   0.7144324 ,\n",
            "          3.3884482 ,   4.801947  ,   5.594465  ,   4.013277  ,\n",
            "        -16.793953  ,   1.5528767 , -13.552591  ,   0.72892505,\n",
            "         -2.8139846 ,  -0.0802537 ,  -1.9708534 , -17.059828  ,\n",
            "         -2.9237034 ,  -3.6355598 ,  -5.5803556 ,  -7.025354  ,\n",
            "        -20.260685  ,  -7.187771  ,  -0.4619028 ,  -3.4761837 ,\n",
            "        -18.925413  ,  -6.8592114 ,   0.9054285 , -10.462153  ,\n",
            "        -10.019852  ,  -6.9841447 , -16.812035  ,  -9.758169  ,\n",
            "        -13.134312  ,  -4.37659   , -17.030334  ,  -6.04577   ,\n",
            "         -7.671809  ,  -5.161193  , -18.431395  ,   3.8176594 ,\n",
            "        -11.751938  ,  -4.3969646 ,  -4.00347   ,  -1.0133768 ,\n",
            "          5.0487947 , -15.253989  ,   0.2306267 ,  -6.152191  ,\n",
            "         -7.0481424 ,  -4.347034  , -11.880812  , -18.127478  ,\n",
            "         -0.33459708, -19.491282  , -53.96653   ,  -0.07185271,\n",
            "         -3.5566432 ,  -9.631486  , -13.575443  ,  -2.8626878 ,\n",
            "         -8.222095  , -16.429726  , -18.828266  ,  -5.2635736 ,\n",
            "         -4.290041  ,   2.2794228 , -11.988173  ,   1.3808048 ,\n",
            "         -2.8220668 ,  -4.0124655 ,  -8.310551  ,  -1.3113629 ,\n",
            "         -1.4128748 ,   1.092737  ,   2.554284  ,  -5.055976  ,\n",
            "        -11.7200775 ,  -4.3265243 ,  -9.034428  , -17.364622  ,\n",
            "         -5.7294846 , -15.550605  ,  -5.9544854 ,  -7.8874803 ,\n",
            "         -9.590666  , -11.622843  ,  -7.365204  ,   0.13420708,\n",
            "          2.4823606 , -14.6561165 ,   2.2408743 ,  -4.3534064 ,\n",
            "         -7.649324  , -12.795228  , -10.282518  ,  -4.971902  ,\n",
            "        -13.05459   , -11.319582  , -10.113079  ,  -5.658936  ,\n",
            "          5.478018  ,  -5.559169  ,  -5.609513  ,  -8.490155  ,\n",
            "          4.2133236 ,   4.336442  ,  -9.308223  ,  -2.3300438 ,\n",
            "        -10.884675  , -11.741202  ,  -9.612944  ,  -9.538898  ,\n",
            "          0.5826038 ,   0.8342983 ,  -5.472704  ,   5.3887343 ,\n",
            "          0.9394136 ,  10.201582  ,  15.828947  ,   0.96496207,\n",
            "        -14.062785  ,   5.5062013 ,  16.441767  ,   4.797071  ,\n",
            "          9.058395  ,  -0.65525955,   3.1743023 ,  -3.810079  ,\n",
            "         14.104726  ,   3.1008234 ,   1.0669886 , -53.15865   ,\n",
            "          8.275662  ,   8.395948  ,  -0.7815294 ,   1.9640394 ,\n",
            "          4.8797007 ,   1.8539264 ,  10.277628  , -12.783889  ,\n",
            "          6.78018   ,  11.963619  ,   3.400483  ,  -9.009351  ,\n",
            "          3.6671584 ,  12.286517  ,   5.036315  ,  -1.7080591 ,\n",
            "          9.832468  ,  10.480431  ,  18.057714  ,   4.5162015 ,\n",
            "         19.866138  ,   5.075038  ,  16.238888  ,  13.035587  ,\n",
            "         10.924706  ,  -0.05510977,   3.2872617 ,   6.943734  ,\n",
            "          9.721924  ,   2.7115772 ,  10.108499  ,   6.115075  ,\n",
            "          5.5385284 ,   8.104277  ,   5.3044624 ,   6.916041  ,\n",
            "         13.9801445 ,   3.2408829 ,  -4.8204927 ,   1.4908347 ,\n",
            "          6.3590894 ,  12.372587  ,   7.745812  ,  11.371866  ,\n",
            "          0.49966916,   1.8357701 ,  14.530155  ,   7.534045  ,\n",
            "          9.184262  ,  19.49849   ,  17.492765  ,   5.0493245 ,\n",
            "          6.9021177 ,  -2.4629784 ,   7.093524  ,  10.29798   ,\n",
            "         21.948532  ,  10.705373  ,  13.151529  ,   2.7959437 ,\n",
            "         10.305984  ,   6.0281787 ,   0.94831455,   6.086446  ,\n",
            "          7.823141  ,  -2.0053632 ,  19.36688   ,  10.942694  ,\n",
            "          5.7046804 ,  13.716172  ,   5.135978  ,   8.967864  ,\n",
            "          4.573001  ,   3.477149  ,   2.9795606 ,  17.302588  ,\n",
            "          2.3694737 ,   8.841461  ,   5.8509526 ,   6.8802137 ,\n",
            "         -5.9033165 ,   8.707381  ,   9.675912  ,  -5.756016  ,\n",
            "          0.4332825 ,  -4.0500436 ,  12.990572  ,  -2.0513935 ,\n",
            "          2.0234563 ,   2.6522086 ,   2.8955517 ,   3.7743177 ,\n",
            "         -2.1701221 ,  -3.1156182 ,   8.734294  ,  15.240688  ,\n",
            "          3.1577141 ,  -1.9760104 ,  -4.4469433 ,  -1.7369597 ,\n",
            "          5.472643  ,  -8.432184  ,  -3.9040647 ,  11.309044  ,\n",
            "          8.035034  ,   2.512897  , -10.786549  ,  -7.323723  ,\n",
            "         -1.0451686 , -11.830811  , -15.582402  ,  10.464746  ,\n",
            "         -1.8035604 ,  -1.731295  ,  -4.9546113 ,   1.7155883 ,\n",
            "          5.8588643 ,   4.6834407 ,  -0.4694829 ,  -5.9180393 ,\n",
            "         -6.5628095 ,  -3.9618394 ,  -5.292386  ,  -3.5745575 ,\n",
            "         -7.897333  ,  -4.4149027 ,  -1.6810822 ,  -2.6078844 ,\n",
            "         11.649996  ,   1.7085396 ,   0.19737281,   2.1621718 ,\n",
            "          4.491175  , -11.153731  ,   8.4354925 , -12.008777  ,\n",
            "          4.6915298 ,  -5.168848  , -18.177652  ,   6.547596  ,\n",
            "          0.31172913,  -5.9735126 ,  -5.8964286 ,  -6.076752  ,\n",
            "         -2.5528243 ,  -6.7042246 ,   4.236392  ,  -2.7366352 ,\n",
            "         -4.574197  ,  -4.548899  ,   4.7857714 ,  -9.732308  ,\n",
            "        -12.716383  ,  -7.297291  , -17.291702  ,  -4.750554  ,\n",
            "         -3.3027096 , -12.133181  ,  -8.84997   ,   4.5175014 ,\n",
            "         -7.0109797 ,  -2.9067924 ,  -9.449552  ,  -4.87301   ,\n",
            "          7.7502537 ,  -1.7563576 , -15.88721   ,  -6.0753736 ,\n",
            "         -6.5485706 ,  -0.61223894,  -4.766241  , -11.055995  ,\n",
            "        -21.340181  ,   1.2131807 ,  -5.8945265 ,  -6.7363725 ,\n",
            "         -4.6096354 ,  -9.776653  ,  -9.89201   ,  -9.582065  ,\n",
            "        -13.441043  ,  -8.413002  ,   0.17131323,  -8.305535  ,\n",
            "          5.1339364 ,   4.9260178 ,   0.18383987, -17.474058  ,\n",
            "        -16.35131   ,  -0.1466149 ,  -9.2810335 ,  -9.868484  ,\n",
            "          6.735181  ,  -6.5126357 ,  -4.29264   ,  -0.7126087 ,\n",
            "         -2.0504072 ,   3.6956499 ,  -8.78443   ,  -3.054289  ,\n",
            "         -5.0295606 , -10.2960005 ,  -6.409026  ,  -6.978366  ,\n",
            "         -1.862914  , -11.270482  ,  -8.914576  ,   0.2605561 ,\n",
            "         -1.4654455 ,  -1.3996464 , -13.361586  ,  -8.772243  ,\n",
            "        -11.327825  ,  10.73881   ,   7.153275  ,  -4.371873  ,\n",
            "         -8.554663  ,  -8.660644  ,  -8.757863  ,  -5.947195  ,\n",
            "         -5.6143236 ,  -3.8456244 ,  -8.025263  , -10.521724  ,\n",
            "          5.8513794 , -10.398502  ,  -9.937848  , -10.965417  ,\n",
            "         -1.6489016 ,  12.523049  ,  -7.9925904 ,  -0.7446395 ,\n",
            "         -2.1012177 ,   2.8401    ,  -3.9640372 ,  -9.122614  ,\n",
            "         -7.677942  ,  -8.13131   , -10.244463  ,  -0.71580464,\n",
            "          0.7055873 ,   0.23429875,  -1.2549794 ,   0.11517532,\n",
            "         -3.5778403 ,  -4.877527  ,  -1.6144496 ,  10.188645  ,\n",
            "         -4.075619  ,  -2.3630257 ,  -6.2543445 ,  -5.0654593 ,\n",
            "          0.28467292,   7.7954216 ,   5.1113896 ,   1.2879122 ,\n",
            "          3.2394395 ,   5.4831977 ,  11.403734  ,  16.047274  ,\n",
            "         -2.6429775 ,  14.674544  ,  -2.822542  ,  10.500451  ,\n",
            "         13.944674  ,  -4.7209697 ,  -0.34607682,  15.240198  ,\n",
            "          1.6202977 ,  -4.5098696 ,   5.631452  ,   3.488084  ,\n",
            "          5.987268  ,   8.345068  ,   6.459027  ,  14.638959  ,\n",
            "         10.896156  ,  10.770551  ,  10.598732  ,   5.9938345 ,\n",
            "          2.9859707 ,  12.6078615 ,   5.1876373 ,  -3.959557  ,\n",
            "          3.6773725 ,   0.56369305,   0.2466521 ,   7.017626  ,\n",
            "         17.975616  ,   7.1099195 ,  17.873945  ,   8.989931  ,\n",
            "         20.056984  ,  -3.539099  ,   8.527174  ,  17.90331   ,\n",
            "          7.4068    ,   8.166911  ,  -0.21638942,  25.989113  ,\n",
            "         16.735716  ,  17.246372  ,   1.4972354 ,  18.076159  ,\n",
            "          7.5600247 ,  -1.29082   ,   4.5715904 ,  17.095219  ,\n",
            "         10.474244  ,   3.4536154 ,  -0.66612846,  -2.3713872 ,\n",
            "         27.22015   ,  -1.1493839 ,   4.744815  ,   3.8953424 ,\n",
            "          8.781787  ,  12.757761  ,  11.564206  ,   1.4295336 ,\n",
            "          0.7424737 ,   1.5211515 ,   4.6469707 ,  11.446011  ,\n",
            "          4.5445266 ,  14.534498  ,   9.109843  ,   8.807061  ,\n",
            "          7.690383  ,   3.9808414 ,   6.265811  ,  14.561137  ,\n",
            "         10.384767  ,   8.122159  ,  11.556157  ,  12.596477  ,\n",
            "          2.2782407 ,   3.940074  ,   8.071327  ,  12.398417  ,\n",
            "          0.18010478,   1.1264548 ,  11.054239  ,   4.534444  ,\n",
            "          8.613371  ,  10.414071  ,   9.929666  ,   3.7780027 ,\n",
            "          3.8503375 ,  -3.3024683 ,   4.0522175 ,   2.4187164 ]],\n",
            "      dtype=float32)>}\n"
          ]
        }
      ],
      "source": [
        "import keras\n",
        "import numpy as np\n",
        "\n",
        "# Path to cached model (Hugging Face auto-downloads it)\n",
        "model_path = \"/Users/hishambhatti/.cache/huggingface/hub/models--google--hear/snapshots/9b2eb2853c426676255cc6ac5804b7f1fe8e563f\"\n",
        "\n",
        "# Load as a Keras layer wrapping the SavedModel\n",
        "hear_layer = keras.layers.TFSMLayer(model_path, call_endpoint=\"serving_default\")\n",
        "\n",
        "# Example: prepare dummy audio input\n",
        "SAMPLE_RATE = 16000\n",
        "CLIP_DURATION = 2\n",
        "CLIP_LENGTH = SAMPLE_RATE * CLIP_DURATION\n",
        "\n",
        "dummy_audio = np.zeros((1, CLIP_LENGTH))  # batch of 1, 32000 samples\n",
        "\n",
        "# Run inference\n",
        "embeddings = hear_layer(dummy_audio)\n",
        "print(embeddings)"
      ]
    },
    {
      "cell_type": "code",
      "execution_count": 78,
      "metadata": {
        "id": "z1KzmL_kqbRz"
      },
      "outputs": [
        {
          "name": "stdout",
          "output_type": "stream",
          "text": [
            "Generating 4 2s raw audio examples.\n",
            "Raw audio shape: (4, 32000), dtype: float64\n",
            "\n",
            "Running HeAR model to produce 4 embeddings.\n",
            "Embedding shape: (4, 512), dtype: float32\n",
            "Elapsed: 4.233771085739136 seconds\n"
          ]
        }
      ],
      "source": [
        "# @title Test Model Inference on Random Input\n",
        "# %%time\n",
        "# import numpy as np\n",
        "\n",
        "# # Generate Random Input Audio\n",
        "# NUM_EXAMPLES = 4  # number of random audio examples to generate\n",
        "# print(f\"Generating {NUM_EXAMPLES} {CLIP_DURATION}s raw audio examples.\")\n",
        "# raw_audio = np.random.normal(size=(NUM_EXAMPLES, CLIP_LENGTH))\n",
        "# print(f\"Raw audio shape: {raw_audio.shape}, data type: {raw_audio.dtype}\\n\")\n",
        "\n",
        "# # Perform Inference Extract and Process the Embedding\n",
        "# print(f'Running HeAR model to produce {NUM_EXAMPLES} embeddings.')\n",
        "# output_dict = infer(x=raw_audio)\n",
        "# embedding = output_dict['output_0'].numpy()  # directly unpack as a NumPy array\n",
        "# print(f\"Embedding shape: {embedding.shape}, data type: {embedding.dtype}\")\n",
        "\n",
        "import numpy as np\n",
        "import time\n",
        "\n",
        "NUM_EXAMPLES = 4\n",
        "print(f\"Generating {NUM_EXAMPLES} {CLIP_DURATION}s raw audio examples.\")\n",
        "raw_audio = np.random.normal(size=(NUM_EXAMPLES, CLIP_LENGTH))\n",
        "print(f\"Raw audio shape: {raw_audio.shape}, dtype: {raw_audio.dtype}\\n\")\n",
        "\n",
        "print(f'Running HeAR model to produce {NUM_EXAMPLES} embeddings.')\n",
        "start = time.time()\n",
        "embedding_dict = hear_layer(raw_audio)        # TFSMLayer inference\n",
        "embedding_tensor = embedding_dict['output_0']\n",
        "embedding_np = embedding_tensor.numpy()         # convert to NumPy\n",
        "end = time.time()\n",
        "\n",
        "print(f\"Embedding shape: {embedding_np.shape}, dtype: {embedding_np.dtype}\")\n",
        "print(\"Elapsed:\", end - start, \"seconds\")"
      ]
    },
    {
      "cell_type": "markdown",
      "metadata": {
        "id": "mO-Z5BOtj3D1"
      },
      "source": [
        "## Download and Record Audio Data"
      ]
    },
    {
      "cell_type": "markdown",
      "metadata": {
        "id": "NBZnJwzzj3D1"
      },
      "source": [
        " Wiki Commons\n",
        "https://commons.wikimedia.org/wiki/Category:Coughing_audio\n"
      ]
    },
    {
      "cell_type": "code",
      "execution_count": 13,
      "metadata": {
        "id": "tJ55XsJsj3D2"
      },
      "outputs": [
        {
          "name": "stdout",
          "output_type": "stream",
          "text": [
            "Downloading Man_coughing.ogg...\n",
            "  Download failed: 403 Client Error: Forbidden for url: https://upload.wikimedia.org/wikipedia/commons/c/cc/Man_coughing.ogg\n",
            "Downloading Cough_1.ogg...\n",
            "  Download failed: 403 Client Error: Forbidden for url: https://upload.wikimedia.org/wikipedia/commons/6/6a/Cough_1.ogg\n",
            "Downloading Cough_2.ogg...\n",
            "  Download failed: 403 Client Error: Forbidden for url: https://upload.wikimedia.org/wikipedia/commons/d/d9/Cough_2.ogg\n",
            "Downloading Woman_coughing_three_times.wav...\n",
            "  Download failed: 403 Client Error: Forbidden for url: https://upload.wikimedia.org/wikipedia/commons/b/be/Woman_coughing_three_times.wav\n",
            "Downloading Sneezing.ogg...\n",
            "  Download failed: 403 Client Error: Forbidden for url: https://upload.wikimedia.org/wikipedia/commons/d/d0/Sneezing.ogg\n",
            "Downloading Windy_breath.ogg...\n",
            "  Download failed: 403 Client Error: Forbidden for url: https://upload.wikimedia.org/wikipedia/commons/b/bc/Windy_breath.ogg\n",
            "Downloading Laughter_and_clearing_voice.ogg...\n",
            "  Download failed: 403 Client Error: Forbidden for url: https://upload.wikimedia.org/wikipedia/commons/e/ef/Laughter_and_clearing_voice.ogg\n",
            "Downloading Laughter.ogg...\n",
            "  Download failed: 403 Client Error: Forbidden for url: https://upload.wikimedia.org/wikipedia/commons/c/c6/Laughter.ogg\n",
            "Downloading Knocking_on_wood_or_door.ogg...\n",
            "  Download failed: 403 Client Error: Forbidden for url: https://upload.wikimedia.org/wikipedia/commons/1/1c/Knocking_on_wood_or_door.ogg\n",
            "\n",
            "Local Files:\n",
            "['.DS_Store', 'HeAR_embeddings.ipynb', 'requirements.txt', 'vs_release_16k', 'VocalSound_Preprocess.ipynb', 'README.md', '.gitignore', '.venv', 'train_data_efficient_classifier copy.ipynb', '.git', 'VocalSound.ipynb', 'train_data_efficient_classifier.ipynb']\n",
            "\n"
          ]
        }
      ],
      "source": [
        "# # @title Download Public Domain Cough Examples to Notebook\n",
        "# import os\n",
        "# import subprocess\n",
        "# from urllib.parse import urlparse\n",
        "\n",
        "# # More examples: https://commons.wikimedia.org/wiki/Category:Coughing_audio\n",
        "# wiki_cough_file_urls = [\n",
        "#   'https://upload.wikimedia.org/wikipedia/commons/c/cc/Man_coughing.ogg',\n",
        "#   'https://upload.wikimedia.org/wikipedia/commons/6/6a/Cough_1.ogg',\n",
        "#   'https://upload.wikimedia.org/wikipedia/commons/d/d9/Cough_2.ogg', # hold out for test\n",
        "#   'https://upload.wikimedia.org/wikipedia/commons/b/be/Woman_coughing_three_times.wav',\n",
        "#   'https://upload.wikimedia.org/wikipedia/commons/d/d0/Sneezing.ogg',\n",
        "#   'https://upload.wikimedia.org/wikipedia/commons/b/bc/Windy_breath.ogg',\n",
        "#   'https://upload.wikimedia.org/wikipedia/commons/e/ef/Laughter_and_clearing_voice.ogg',\n",
        "#   'https://upload.wikimedia.org/wikipedia/commons/c/c6/Laughter.ogg',\n",
        "#   'https://upload.wikimedia.org/wikipedia/commons/1/1c/Knocking_on_wood_or_door.ogg',\n",
        "# ]\n",
        "\n",
        "# # Download the files.\n",
        "# files_map = {}  # file name to file path map\n",
        "# file_embeddings = {} # embedding cache\n",
        "# for url in wiki_cough_file_urls:\n",
        "#     filename = os.path.basename(urlparse(url).path)\n",
        "#     print(f'Downloading {filename}...')\n",
        "#     res = subprocess.run(['wget', '-nv', '-O', filename, url], capture_output=True, text=True)\n",
        "#     if res.returncode != 0:\n",
        "#         print(f\"  Download failed. Return code: {res.returncode}\\nError: {res.stderr}\")\n",
        "#     files_map[filename] = url\n",
        "# print(f'\\nLocal Files:\\n{os.listdir():}\\n')\n",
        "\n",
        "import os\n",
        "from urllib.parse import urlparse\n",
        "import requests\n",
        "\n",
        "wiki_cough_file_urls = [\n",
        "    'https://upload.wikimedia.org/wikipedia/commons/c/cc/Man_coughing.ogg',\n",
        "    'https://upload.wikimedia.org/wikipedia/commons/6/6a/Cough_1.ogg',\n",
        "    'https://upload.wikimedia.org/wikipedia/commons/d/d9/Cough_2.ogg',  # hold out for test\n",
        "    'https://upload.wikimedia.org/wikipedia/commons/b/be/Woman_coughing_three_times.wav',\n",
        "    'https://upload.wikimedia.org/wikipedia/commons/d/d0/Sneezing.ogg',\n",
        "    'https://upload.wikimedia.org/wikipedia/commons/b/bc/Windy_breath.ogg',\n",
        "    'https://upload.wikimedia.org/wikipedia/commons/e/ef/Laughter_and_clearing_voice.ogg',\n",
        "    'https://upload.wikimedia.org/wikipedia/commons/c/c6/Laughter.ogg',\n",
        "    'https://upload.wikimedia.org/wikipedia/commons/1/1c/Knocking_on_wood_or_door.ogg',\n",
        "]\n",
        "\n",
        "files_map = {}\n",
        "file_embeddings = {}\n",
        "\n",
        "for url in wiki_cough_file_urls:\n",
        "    filename = os.path.basename(urlparse(url).path)\n",
        "    print(f'Downloading {filename}...')\n",
        "    try:\n",
        "        r = requests.get(url)\n",
        "        r.raise_for_status()  # raise error if download failed\n",
        "        with open(filename, 'wb') as f:\n",
        "            f.write(r.content)\n",
        "        print(f\"  Saved {filename}\")\n",
        "        files_map[filename] = filename\n",
        "    except Exception as e:\n",
        "        print(f\"  Download failed: {e}\")\n",
        "\n",
        "print(f'\\nLocal Files:\\n{os.listdir()}\\n')\n"
      ]
    },
    {
      "cell_type": "code",
      "execution_count": null,
      "metadata": {
        "cellView": "form",
        "id": "28haI1t7Iq4X"
      },
      "outputs": [],
      "source": [
        "# # @title Microphone Helpers\n",
        "# from io import BytesIO\n",
        "# from base64 import b64decode\n",
        "# from google.colab import output\n",
        "# from IPython.display import Javascript\n",
        "\n",
        "# RECORD_JAVASCRIPT = \"\"\"\n",
        "# const sleep  = time => new Promise(resolve => setTimeout(resolve, time))\n",
        "# const b2text = blob => new Promise(resolve => {\n",
        "#   const reader = new FileReader()\n",
        "#   reader.onloadend = e => resolve(e.srcElement.result)\n",
        "#   reader.readAsDataURL(blob)\n",
        "# })\n",
        "# var record = time => new Promise(async resolve => {\n",
        "#   stream = await navigator.mediaDevices.getUserMedia({ audio: true })\n",
        "#   recorder = new MediaRecorder(stream)\n",
        "#   chunks = []\n",
        "#   recorder.ondataavailable = e => chunks.push(e.data)\n",
        "#   recorder.start()\n",
        "#   await sleep(time)\n",
        "#   recorder.onstop = async ()=>{\n",
        "#     blob = new Blob(chunks)\n",
        "#     text = await b2text(blob)\n",
        "#     resolve(text)\n",
        "#   }\n",
        "#   recorder.stop()\n",
        "# })\n",
        "# \"\"\"\n",
        "# def record_microphone_and_save(duration_seconds=2, filename=\"output_audio\", extension='.webm'):\n",
        "#   output_filename = filename + extension\n",
        "#   print(f\"\\nRecording for {duration_seconds} seconds...\")\n",
        "#   display(Javascript(RECORD_JAVASCRIPT))\n",
        "#   base64_audio = output.eval_js('record(%d)' % (duration_seconds * 1000))\n",
        "#   print(\"Done Recording!\")\n",
        "#   audio_bytes = b64decode(base64_audio.split(',')[1])\n",
        "\n",
        "#   # Save the audio to a file\n",
        "#   with open(output_filename, 'wb') as file:\n",
        "#       file.write(audio_bytes)\n",
        "#   print(f\"Audio saved as {output_filename}\")\n",
        "#   return output_filename"
      ]
    },
    {
      "cell_type": "code",
      "execution_count": null,
      "metadata": {
        "id": "RtMcXr3o6gxN"
      },
      "outputs": [],
      "source": [
        "# @title Record your own file\n",
        "\n",
        "# recording_name = \"my_recording\" # will overwrite existing\n",
        "# recording_file = record_microphone_and_save(duration_seconds=CLIP_DURATION, filename=recording_name)\n",
        "# files_map[recording_file] = recording_name # add to file map from above\n"
      ]
    },
    {
      "cell_type": "markdown",
      "metadata": {
        "id": "Vz5Z4BOlGVHm"
      },
      "source": [
        "## Model Inference"
      ]
    },
    {
      "cell_type": "code",
      "execution_count": 79,
      "metadata": {
        "cellView": "form",
        "id": "33G4zKJHjGGc"
      },
      "outputs": [],
      "source": [
        "# @title Plot Helpers\n",
        "import os\n",
        "import librosa\n",
        "import matplotlib.pyplot as plt\n",
        "import librosa.display\n",
        "from IPython.display import Audio\n",
        "import matplotlib.cm as cm\n",
        "import warnings\n",
        "\n",
        "# Suppress the specific warning\n",
        "warnings.filterwarnings(\"ignore\", category=UserWarning, module=\"soundfile\")\n",
        "warnings.filterwarnings(\"ignore\", module=\"librosa\")\n",
        "\n",
        "\n",
        "def plot_waveform(sound, sr, title, figsize=(12, 4), color='blue', alpha=0.7):\n",
        "  \"\"\"Plots the waveform of the audio using librosa.display.\"\"\"\n",
        "  plt.figure(figsize=figsize)\n",
        "  librosa.display.waveshow(sound, sr=sr, color=color, alpha=alpha)\n",
        "  plt.title(f\"{title}\\nshape={sound.shape}, sr={sr}, dtype={sound.dtype}\")\n",
        "  plt.xlabel(\"Time (s)\")\n",
        "  plt.ylabel(\"Amplitude\")\n",
        "  plt.grid(True)\n",
        "  plt.tight_layout()\n",
        "  plt.show()\n",
        "\n",
        "\n",
        "def plot_spectrogram(sound, sr, title, figsize=(12, 4), n_fft=2048, hop_length=256, n_mels=128, cmap='nipy_spectral'):\n",
        "  \"\"\"Plots the Mel spectrogram of the audio using librosa.\"\"\"\n",
        "  plt.figure(figsize=figsize)\n",
        "  mel_spectrogram = librosa.feature.melspectrogram(y=sound, sr=sr, n_fft=n_fft, hop_length=hop_length, n_mels=n_mels)\n",
        "  log_mel_spectrogram = librosa.power_to_db(mel_spectrogram, ref=np.max)\n",
        "  librosa.display.specshow(log_mel_spectrogram, sr=sr, hop_length=hop_length, x_axis='time', y_axis='mel', cmap=cmap)\n",
        "  plt.title(f\"{title} - Mel Spectrogram\")\n",
        "  plt.tight_layout()\n",
        "  plt.show()\n"
      ]
    },
    {
      "cell_type": "code",
      "execution_count": 80,
      "metadata": {},
      "outputs": [
        {
          "name": "stdout",
          "output_type": "stream",
          "text": [
            "Female, 56, United States of America, EN, no\n"
          ]
        }
      ],
      "source": [
        "# Build metadata dictionary\n",
        "import csv\n",
        "\n",
        "metadata_dict = {}\n",
        "\n",
        "with open('vs_release_16k/meta/all_meta.csv', newline='') as csvfile:\n",
        "    reader = csv.reader(csvfile)\n",
        "    for row in reader:\n",
        "        key = row[0]                     # first column, e.g., 'm0023'\n",
        "        value = \", \".join([col.strip().capitalize() if i==0 else col.strip()\n",
        "                           for i, col in enumerate(row[1:])])\n",
        "        metadata_dict[key] = value\n",
        "\n",
        "# Example lookup\n",
        "print(metadata_dict['f0003'])"
      ]
    },
    {
      "cell_type": "code",
      "execution_count": 81,
      "metadata": {},
      "outputs": [],
      "source": [
        "file_embeddings = {}"
      ]
    },
    {
      "cell_type": "code",
      "execution_count": null,
      "metadata": {},
      "outputs": [
        {
          "name": "stdout",
          "output_type": "stream",
          "text": [
            "\n",
            "Loading file: m1411_0_sigh from vs_release_16k/audio_16k/m1411_0_sigh.wav\n"
          ]
        },
        {
          "ename": "NameError",
          "evalue": "name 'librosa' is not defined",
          "output_type": "error",
          "traceback": [
            "\u001b[31m---------------------------------------------------------------------------\u001b[39m",
            "\u001b[31mNameError\u001b[39m                                 Traceback (most recent call last)",
            "\u001b[36mCell\u001b[39m\u001b[36m \u001b[39m\u001b[32mIn[1]\u001b[39m\u001b[32m, line 53\u001b[39m\n\u001b[32m     51\u001b[39m \u001b[38;5;66;03m# Load the audio file into numpy array with specified sample rate and 1 channel (mono).\u001b[39;00m\n\u001b[32m     52\u001b[39m \u001b[38;5;28mprint\u001b[39m(\u001b[33mf\u001b[39m\u001b[33m\"\u001b[39m\u001b[38;5;130;01m\\n\u001b[39;00m\u001b[33mLoading file: \u001b[39m\u001b[38;5;132;01m{\u001b[39;00mfile\u001b[38;5;132;01m}\u001b[39;00m\u001b[33m from \u001b[39m\u001b[38;5;132;01m{\u001b[39;00mfile_url\u001b[38;5;132;01m}\u001b[39;00m\u001b[33m\"\u001b[39m)\n\u001b[32m---> \u001b[39m\u001b[32m53\u001b[39m audio, sample_rate = \u001b[43mlibrosa\u001b[49m.load(file_url, sr=SAMPLE_RATE, mono=\u001b[38;5;28;01mTrue\u001b[39;00m)\n\u001b[32m     55\u001b[39m \u001b[38;5;66;03m# Display audio file (optional)\u001b[39;00m\n\u001b[32m     56\u001b[39m \u001b[38;5;28;01mif\u001b[39;00m SHOW_WAVEFORM:\n",
            "\u001b[31mNameError\u001b[39m: name 'librosa' is not defined"
          ]
        }
      ],
      "source": [
        "# @title Load Audio and Generate HeAR Embeddings\n",
        "\n",
        "# Let's just try to do the audio for ONE of the downloaded audio embeddings\n",
        "# Let's say f0003_0_cough.wav\n",
        "\n",
        "# Audio display options\n",
        "SHOW_WAVEFORM = False\n",
        "SHOW_SPECTROGRAM = True\n",
        "SHOW_PLAYER = True\n",
        "SHOW_CLIPS = False\n",
        "\n",
        "# Clips of length CLIP_DURATION seconds are extracted from the audio file\n",
        "# using a sliding window. Adjecent clips are overlapped by CLIP_OVERLAP_PERCENT.\n",
        "CLIP_OVERLAP_PERCENT = 10\n",
        "\n",
        "# When True, if a clip extracted from the file is quieter than\n",
        "# the SILENCE_RMS_THRESHOLD_DB it is not sent to the HeAR model.\n",
        "CLIP_IGNORE_SILENT_CLIPS = True\n",
        "# Maximum average amplitude of a frame to be considered silence.\n",
        "SILENCE_RMS_THRESHOLD_DB = -50\n",
        "\n",
        "file_set = {'f0003_0_cough', 'f0003_0_laughter', 'f0003_0_sigh', 'f0003_0_sneeze',\n",
        "            'f0003_0_sniff', 'f0003_0_throatclearing', 'm1411_0_cough',\n",
        "            'm1411_0_laughter', 'm1411_0_sigh', 'm1411_0_sneeze', 'm1411_0_sniff',\n",
        "            'm1411_0_throatclearing'}\n",
        "\n",
        "#files_map = {file: f'vs_release_16k/audio_16k/{file}.wav' for file in file_set}\n",
        "\n",
        "#keys = {file[:5] for file in file_set}\n",
        "#print(keys)\n",
        "\n",
        "#print(files_map)\n",
        "\n",
        "# files_map = {\n",
        "#   'f0003_0_cough': 'vs_release_16k/audio_16k/f0003_0_cough.wav',\n",
        "#   'f0003_0_laughter': 'vs_release_16k/audio_16k/f0003_0_laughter.wav',\n",
        "#   'f0003_0_sigh.wav': 'vs_release_16k/audio_16k/f0003_0_sigh.wav',\n",
        "#   'f0003_0_sneeze.wav': 'vs_release_16k/audio_16k/f0003_0_sneeze.wav',\n",
        "#   'f0003_0_sniff.wav': 'vs_release_16k/audio_16k/f0003_0_sniff.wav',\n",
        "#   'f0003_0_throatclearing.wav': 'vs_release_16k/audio_16k/f0003_0_throatclearing.wav',\n",
        "#   'm1411_0_cough.wav': 'vs_release_16k/audio_16k/m1411_0_cough.wav',\n",
        "#   'm1411_0_laughter.wav': 'vs_release_16k/audio_16k/m1411_0_laughter.wav',\n",
        "#   'm1411_0_sigh.wav': 'vs_release_16k/audio_16k/m1411_0_sigh.wav',\n",
        "#   'm1411_0_sneeze.wav': 'vs_release_16k/audio_16k/m1411_0_sneeze.wav',\n",
        "#   'm1411_0_sniff.wav': 'vs_release_16k/audio_16k/m1411_0_sniff.wav',\n",
        "#   'm1411_0_throatclearing.wav': 'vs_release_16k/audio_16k/m1411_0_throatclearing.wav'\n",
        "# }\n",
        "\n",
        "for file in file_set:\n",
        "  file_url = f'vs_release_16k/audio_16k/{file}.wav'\n",
        "  # Load the audio file into numpy array with specified sample rate and 1 channel (mono).\n",
        "  print(f\"\\nLoading file: {file} from {file_url}\")\n",
        "  audio, sample_rate = librosa.load(file_url, sr=SAMPLE_RATE, mono=True)\n",
        "\n",
        "  # Display audio file (optional)\n",
        "  if SHOW_WAVEFORM:\n",
        "    plot_waveform(audio, sample_rate, title=file, color='blue')\n",
        "  if SHOW_SPECTROGRAM:\n",
        "    plot_spectrogram(audio, sample_rate, file,  n_fft=2*1024, hop_length=64, n_mels=256, cmap='Blues')\n",
        "  if SHOW_PLAYER:\n",
        "    display(Audio(data=audio, rate=sample_rate))\n",
        "\n",
        "  # This code segments an audio array into overlapping clips.\n",
        "  # It calculates the number of clips, iterates through them,\n",
        "  # and handles potential padding with zeros for the last clip if needed.\n",
        "  clip_batch = []\n",
        "  overlap_samples = int(CLIP_LENGTH * (CLIP_OVERLAP_PERCENT / 100))\n",
        "  step_size = CLIP_LENGTH - overlap_samples\n",
        "  num_clips = max(1, (len(audio) - overlap_samples) // step_size)\n",
        "  print(f\" Segmenting into {num_clips} {CLIP_DURATION}s clips\")\n",
        "  for i in range(num_clips):\n",
        "    start_sample = i * step_size\n",
        "    end_sample = start_sample + CLIP_LENGTH\n",
        "    clip = audio[start_sample:end_sample]\n",
        "    # Pad clip with zeros if less than the required CLIP_LENGTH.\n",
        "    if end_sample > len(audio):\n",
        "        print(\"  Last clip: Padding with zeros.\")\n",
        "        clip = np.pad(clip, (0, CLIP_LENGTH - len(clip)), 'constant')\n",
        "    # Average Loudness of the clip(in dB)\n",
        "    rms_loudness =  round(20 * np.log10(np.sqrt(np.mean(clip**2))))\n",
        "\n",
        "    # Display clip info (optional)\n",
        "    clip_str = f\"Clip {i+1} from {file} [loudness: {rms_loudness} dB]\"\n",
        "    print(f\"  {clip_str}\")\n",
        "    if SHOW_CLIPS:\n",
        "      if SHOW_WAVEFORM:\n",
        "        plot_waveform(clip, sample_rate, title=clip_str, figsize=(8, 3), color=cm.rainbow(i /num_clips))\n",
        "      if SHOW_PLAYER:\n",
        "        display(Audio(data=clip, rate=sample_rate))\n",
        "\n",
        "    # Skip if clip is too quiet\n",
        "    if CLIP_IGNORE_SILENT_CLIPS and rms_loudness < SILENCE_RMS_THRESHOLD_DB:\n",
        "      print(f\"  Clip {i+1} Skip...too quiet [loudness: {rms_loudness} dB]\")\n",
        "      continue\n",
        "\n",
        "    # Add clip to batch\n",
        "    clip_batch.append(clip)\n",
        "\n",
        "\n",
        "  # Perform HeAR Batch inference to extract the associated clip embedding.\n",
        "  # Only run inference if embedding not already in file_embedding cache.\n",
        "  clip_batch = np.asarray(clip_batch)\n",
        "  if file not in file_embeddings:\n",
        "    print(\"  Clip not in cache, performing inference...\")\n",
        "\n",
        "    start = time.time()\n",
        "    embedding_batch = hear_layer(clip_batch)['output_0'].numpy()\n",
        "    #embedding_batch = infer(x=clip_batch)['output_0'].numpy()\n",
        "    end = time.time()\n",
        "    print(\"Elapsed:\", end - start, \"seconds\")\n",
        "    file_embeddings[file] = embedding_batch\n",
        "  else:\n",
        "    embedding_batch = file_embeddings[file]\n",
        "  print(f\"  Embedding batch shape: {embedding_batch.shape}, data type: {embedding_batch.dtype}\")\n",
        "\n"
      ]
    },
    {
      "cell_type": "code",
      "execution_count": null,
      "metadata": {
        "id": "KYbz904QXio2"
      },
      "outputs": [],
      "source": [
        "# # @title Load Audio and Generate HeAR Embeddings\n",
        "# %%time\n",
        "\n",
        "# # Audio display options\n",
        "# SHOW_WAVEFORM = False\n",
        "# SHOW_SPECTROGRAM = True\n",
        "# SHOW_PLAYER = True\n",
        "# SHOW_CLIPS = False\n",
        "\n",
        "# # Clips of length CLIP_DURATION seconds are extracted from the audio file\n",
        "# # using a sliding window. Adjecent clips are overlapped by CLIP_OVERLAP_PERCENT.\n",
        "# CLIP_OVERLAP_PERCENT = 10\n",
        "\n",
        "# # When True, if a clip extracted from the file is quieter than\n",
        "# # the SILENCE_RMS_THRESHOLD_DB it is not sent to the HeAR model.\n",
        "# CLIP_IGNORE_SILENT_CLIPS = True\n",
        "# # Maximum average amplitude of a frame to be considered silence.\n",
        "# SILENCE_RMS_THRESHOLD_DB = -50\n",
        "\n",
        "\n",
        "# for file_key, file_url in files_map.items():\n",
        "#   # Load the audio file into numpy array with specified sample rate and 1 channel (mono).\n",
        "#   print(f\"\\nLoading file: {file_key} from {file_url}\")\n",
        "#   audio, sample_rate = librosa.load(file_key, sr=SAMPLE_RATE, mono=True)\n",
        "\n",
        "#   # Display audio file (optional)\n",
        "#   if SHOW_WAVEFORM:\n",
        "#     plot_waveform(audio, sample_rate, title=file_key, color='blue')\n",
        "#   if SHOW_SPECTROGRAM:\n",
        "#     plot_spectrogram(audio, sample_rate, file_key,  n_fft=2*1024, hop_length=64, n_mels=256, cmap='Blues')\n",
        "#   if SHOW_PLAYER:\n",
        "#     display(Audio(data=audio, rate=sample_rate))\n",
        "\n",
        "#   # This code segments an audio array into overlapping clips.\n",
        "#   # It calculates the number of clips, iterates through them,\n",
        "#   # and handles potential padding with zeros for the last clip if needed.\n",
        "#   clip_batch = []\n",
        "#   overlap_samples = int(CLIP_LENGTH * (CLIP_OVERLAP_PERCENT / 100))\n",
        "#   step_size = CLIP_LENGTH - overlap_samples\n",
        "#   num_clips = max(1, (len(audio) - overlap_samples) // step_size)\n",
        "#   print(f\" Segmenting into {num_clips} {CLIP_DURATION}s clips\")\n",
        "#   for i in range(num_clips):\n",
        "#     start_sample = i * step_size\n",
        "#     end_sample = start_sample + CLIP_LENGTH\n",
        "#     clip = audio[start_sample:end_sample]\n",
        "#     # Pad clip with zeros if less than the required CLIP_LENGTH.\n",
        "#     if end_sample > len(audio):\n",
        "#         print(\"  Last clip: Padding with zeros.\")\n",
        "#         clip = np.pad(clip, (0, CLIP_LENGTH - len(clip)), 'constant')\n",
        "#     # Average Loudness of the clip(in dB)\n",
        "#     rms_loudness =  round(20 * np.log10(np.sqrt(np.mean(clip**2))))\n",
        "\n",
        "#     # Display clip info (optional)\n",
        "#     clip_str = f\"Clip {i+1} from {file_key} [loudness: {rms_loudness} dB]\"\n",
        "#     print(f\"  {clip_str}\")\n",
        "#     if SHOW_CLIPS:\n",
        "#       if SHOW_WAVEFORM:\n",
        "#         plot_waveform(clip, sample_rate, title=clip_str, figsize=(8, 3), color=cm.rainbow(i /num_clips))\n",
        "#       if SHOW_PLAYER:\n",
        "#         display(Audio(data=clip, rate=sample_rate))\n",
        "\n",
        "#     # Skip if clip is too quiet\n",
        "#     if CLIP_IGNORE_SILENT_CLIPS and rms_loudness < SILENCE_RMS_THRESHOLD_DB:\n",
        "#       print(f\"  Clip {i+1} Skip...too quiet [loudness: {rms_loudness} dB]\")\n",
        "#       continue\n",
        "\n",
        "#     # Add clip to batch\n",
        "#     clip_batch.append(clip)\n",
        "\n",
        "\n",
        "#   # Perform HeAR Batch inference to extract the associated clip embedding.\n",
        "#   # Only run inference if embedding not already in file_embedding cache.\n",
        "#   clip_batch = np.asarray(clip_batch)\n",
        "#   if file_key not in file_embeddings:\n",
        "#     print(\"  Clip not in cache, performing inference...\")\n",
        "#     embedding_batch = infer(x=clip_batch)['output_0'].numpy()\n",
        "#     file_embeddings[file_key] = embedding_batch\n",
        "#   else:\n",
        "#     embedding_batch = file_embeddings[file_key]\n",
        "#   print(f\"  Embedding batch shape: {embedding_batch.shape}, data type: {embedding_batch.dtype}\")\n"
      ]
    },
    {
      "cell_type": "code",
      "execution_count": 83,
      "metadata": {
        "id": "rrIP1KKIymtu"
      },
      "outputs": [
        {
          "name": "stdout",
          "output_type": "stream",
          "text": [
            "Embeddings have shape: (20, 512), data type: float32\n",
            "Embeddings are from 12 unique files:{'f0003_0_sniff', 'm1411_0_sniff', 'f0003_0_cough', 'm1411_0_cough', 'f0003_0_sigh', 'f0003_0_throatclearing', 'm1411_0_laughter', 'm1411_0_sigh', 'm1411_0_throatclearing', 'm1411_0_sneeze', 'f0003_0_laughter', 'f0003_0_sneeze'}\n"
          ]
        }
      ],
      "source": [
        "# # @title Collect Embeddings, Create Training Set\n",
        "\n",
        "# # Hold out example for testing with cough classifier later.\n",
        "# # Only using one test file for now, can also record your own.\n",
        "# # Note: `Cough_2.ogg` is likely the same person as `Cough_1.ogg`,\n",
        "# #  so we expect it to produce a similar embedding\n",
        "# test_file = 'Cough_2.ogg'\n",
        "# assert test_file in files_map, f\"Test file '{test_file}' not found in files_map.\"\n",
        "\n",
        "\n",
        "# # Combine train embeddings and hold out test embeddings.\n",
        "# test_embeddings, test_file_names = [], [] # held out\n",
        "# train_embeddings, train_file_names = [], []\n",
        "# for file_key, embedding_batch in file_embeddings.items():\n",
        "#   for embedding in embedding_batch:\n",
        "#     if file_key == test_file:\n",
        "#       test_embeddings.append(embedding)\n",
        "#       test_file_names.append(file_key)\n",
        "#     else:\n",
        "#       train_embeddings.append(embedding)\n",
        "#       train_file_names.append(file_key)\n",
        "# train_embeddings = np.array(train_embeddings)\n",
        "# train_file_set = set(train_file_names)\n",
        "# test_file_set = set(test_file_names)\n",
        "\n",
        "# print(f\"Train embeddings have shape: {train_embeddings.shape}, data type: {train_embeddings.dtype}\")\n",
        "# print(f\"Train Embeddings are from {len(train_file_set)} unique files:{train_file_set}\")\n",
        "# print(f\"Test Embeddings are from {len(test_file_set)} unique files:{test_file_set}\")\n",
        "\n",
        "\n",
        "embeddings, file_names = [], [] # held out\n",
        "for file, embedding_batch in file_embeddings.items():\n",
        "  for embedding in embedding_batch:\n",
        "      embeddings.append(embedding)\n",
        "      file_names.append(file)\n",
        "embeddings = np.array(embeddings)\n",
        "\n",
        "print(f\"Embeddings have shape: {embeddings.shape}, data type: {embeddings.dtype}\")\n",
        "print(f\"Embeddings are from {len(file_set)} unique files:{file_set}\")"
      ]
    },
    {
      "cell_type": "markdown",
      "metadata": {
        "id": "nkr8EXfOGgHm"
      },
      "source": [
        "## Use Embeddings"
      ]
    },
    {
      "cell_type": "code",
      "execution_count": 84,
      "metadata": {
        "id": "DVo9WYSYjZ6H"
      },
      "outputs": [
        {
          "data": {
            "image/png": "[encoded data removed]",
            "text/plain": [
              "<Figure size 1000x1000 with 1 Axes>"
            ]
          },
          "metadata": {},
          "output_type": "display_data"
        }
      ],
      "source": [
        "# # @title Plot Train Embeddings, show average Embedding per file\n",
        "# from sklearn.decomposition import PCA\n",
        "\n",
        "# # Fit PCA\n",
        "# pca = PCA(n_components=2)\n",
        "# pca_embeddings = pca.fit_transform(train_embeddings)\n",
        "\n",
        "# # Calculate average embedding per file after PCA, mark as star\n",
        "# avg_embeddings_per_file_pca = {}\n",
        "# for file_key in train_file_set:\n",
        "#     file_indices = [i for i, key in enumerate(train_file_names) if key == file_key]\n",
        "#     avg_embeddings_per_file_pca[file_key] = np.mean(pca_embeddings[file_indices], axis=0)\n",
        "\n",
        "# # Plot with coloring and average embedding\n",
        "# plt.figure(figsize=(10, 10))\n",
        "# colors = cm.rainbow(np.linspace(0, 1, len(train_file_set)))\n",
        "# color_map = {key: colors[i] for i, key in enumerate(train_file_set)}\n",
        "# for i, embedding in enumerate(pca_embeddings):\n",
        "#     file_key = train_file_names[i]\n",
        "#     plt.scatter(embedding[0], embedding[1], color=color_map[file_key], alpha=0.5)  # No label for each dot\n",
        "\n",
        "# # Add average embeddings as star markers (using PCA averages)\n",
        "# for file_key, avg_embedding in avg_embeddings_per_file_pca.items():\n",
        "#     plt.scatter(avg_embedding[0], avg_embedding[1], marker='*', color=color_map[file_key], label=file_key, s=400)  # Label for average\n",
        "\n",
        "# plt.xlabel(\"PCA Dimension 1\")\n",
        "# plt.ylabel(\"PCA Dimension 2\")\n",
        "# plt.title(\"Embeddings with PCA, File Coloring, and PCA Average Embedding Markers\")\n",
        "# plt.legend(loc='upper left', bbox_to_anchor=(1, 1))\n",
        "# plt.grid(True)\n",
        "# plt.show()\n",
        "\n",
        "# @title Plot Train Embeddings, show average Embedding per file\n",
        "\n",
        "# NOTE: This one doesn't do the metadata\n",
        "from sklearn.decomposition import PCA\n",
        "\n",
        "# Fit PCA\n",
        "pca = PCA(n_components=2)\n",
        "pca_embeddings = pca.fit_transform(embeddings)\n",
        "\n",
        "# Calculate average embedding per file after PCA, mark as star\n",
        "avg_embeddings_per_file_pca = {}\n",
        "for file in file_set:\n",
        "    file_indices = [i for i, key in enumerate(file_names) if key == file]\n",
        "    avg_embeddings_per_file_pca[file] = np.mean(pca_embeddings[file_indices], axis=0)\n",
        "\n",
        "# Plot with coloring and average embedding\n",
        "plt.figure(figsize=(10, 10))\n",
        "colors = cm.rainbow(np.linspace(0, 1, len(file_set)))\n",
        "color_map = {key: colors[i] for i, key in enumerate(file_set)}\n",
        "for i, embedding in enumerate(pca_embeddings):\n",
        "    file_key = file_names[i]\n",
        "    plt.scatter(embedding[0], embedding[1], color=color_map[file_key], alpha=0.5)  # No label for each dot\n",
        "\n",
        "# Add average embeddings as star markers (using PCA averages)\n",
        "for file_key, avg_embedding in avg_embeddings_per_file_pca.items():\n",
        "    plt.scatter(avg_embedding[0], avg_embedding[1], marker='*', color=color_map[file_key], label=file_key, s=400)  # Label for average\n",
        "\n",
        "plt.xlabel(\"PCA Dimension 1\")\n",
        "plt.ylabel(\"PCA Dimension 2\")\n",
        "plt.title(\"Embeddings with PCA, File Coloring, and PCA Average Embedding Markers\")\n",
        "plt.legend(loc='upper left', bbox_to_anchor=(1, 1))\n",
        "plt.grid(True)\n",
        "plt.show()"
      ]
    },
    {
      "cell_type": "code",
      "execution_count": 85,
      "metadata": {},
      "outputs": [
        {
          "data": {
            "image/png": "[encoded data removed]",
            "text/plain": [
              "<Figure size 1000x1000 with 1 Axes>"
            ]
          },
          "metadata": {},
          "output_type": "display_data"
        }
      ],
      "source": [
        "from sklearn.decomposition import PCA\n",
        "import matplotlib.pyplot as plt\n",
        "import matplotlib.cm as cm\n",
        "import numpy as np\n",
        "\n",
        "# --- Step 1: Fit PCA ---\n",
        "pca = PCA(n_components=2)\n",
        "pca_embeddings = pca.fit_transform(embeddings)\n",
        "\n",
        "# --- Step 2: Helper to parse example ID and audio type from file path ---\n",
        "def parse_file_info(file_path):\n",
        "    # file_path: 'vs_release_16k/audio_16k/f0003_0_cough.wav'\n",
        "    base_name = file_path.split('/')[-1]           # 'f0003_0_cough.wav'\n",
        "    parts = base_name.split('_')                   # ['f0003', '0', 'cough.wav']\n",
        "    id = parts[0]                          # 'f0003'\n",
        "    audio_type = parts[2].replace('.wav', '')      # 'cough'\n",
        "    return id, audio_type\n",
        "\n",
        "# --- Step 3: Build human-readable labels for each embedding ---\n",
        "file_labels = []\n",
        "for file_path in file_names:\n",
        "    id, audio_type = parse_file_info(file_path)\n",
        "    metadata = metadata_dict.get(id, \"Unknown\")\n",
        "    file_labels.append(f\"{metadata} — {audio_type}\")\n",
        "\n",
        "# --- Step 4: Prepare color mapping ---\n",
        "unique_files = sorted(set(file_names))           # use full paths to match file_names\n",
        "colors = cm.rainbow(np.linspace(0, 1, len(unique_files)))\n",
        "color_map = {key: colors[i] for i, key in enumerate(unique_files)}\n",
        "\n",
        "# --- Step 5: Calculate average embedding per file ---\n",
        "avg_embeddings_per_file_pca = {}\n",
        "for file in unique_files:\n",
        "    indices = [i for i, f in enumerate(file_names) if f == file]\n",
        "    avg_embeddings_per_file_pca[file] = np.mean(pca_embeddings[indices], axis=0)\n",
        "\n",
        "# --- Step 6: Plot all embeddings ---\n",
        "plt.figure(figsize=(10, 10))\n",
        "\n",
        "# Scatter individual embeddings\n",
        "for i, embedding in enumerate(pca_embeddings):\n",
        "    plt.scatter(embedding[0], embedding[1], color=color_map[file_names[i]], alpha=0.5)\n",
        "\n",
        "# Scatter average embeddings as stars\n",
        "for file in unique_files:\n",
        "    avg_emb = avg_embeddings_per_file_pca[file]\n",
        "    plt.scatter(avg_emb[0], avg_emb[1], marker='*', color=color_map[file], s=400,\n",
        "                label=file_labels[file_names.index(file)])  # use first label of that file\n",
        "\n",
        "plt.xlabel(\"PCA Dimension 1\")\n",
        "plt.ylabel(\"PCA Dimension 2\")\n",
        "plt.title(\"HeAR Embeddings PCA with Metadata and Audio Type\")\n",
        "plt.legend(loc='upper left', bbox_to_anchor=(1, 1))\n",
        "plt.grid(True)\n",
        "plt.show()\n",
        "\n"
      ]
    },
    {
      "cell_type": "markdown",
      "metadata": {},
      "source": [
        "END of my experiment with this\n",
        "\n",
        "TODO: We can run this test with by doing some sort of train-test split, but that's not really the\n",
        "point of this notebook\n"
      ]
    },
    {
      "cell_type": "code",
      "execution_count": null,
      "metadata": {},
      "outputs": [
        {
          "name": "stdout",
          "output_type": "stream",
          "text": [
            "Loaded metadata for 3365 unique speakers.\n",
            "Found 21024 audio files in the dataset.\n",
            "\n",
            "Processing file 0/21024: f1236_0_sigh\n",
            "vs_release_16k/audio_16k/f1236_0_sigh.wav\n",
            "vs_release_16k/audio_16k/f1541_0_throatclearing.wav\n",
            "vs_release_16k/audio_16k/m1679_0_sniff.wav\n",
            "vs_release_16k/audio_16k/m1783_0_throatclearing.wav\n",
            "vs_release_16k/audio_16k/f1291_0_laughter.wav\n",
            "vs_release_16k/audio_16k/m0209_0_sneeze.wav\n",
            "vs_release_16k/audio_16k/f1284_0_laughter.wav\n",
            "vs_release_16k/audio_16k/m1037_0_sigh.wav\n",
            "vs_release_16k/audio_16k/m0019_0_cough.wav\n",
            "vs_release_16k/audio_16k/f2769_0_laughter.wav\n",
            "vs_release_16k/audio_16k/m1329_0_sniff.wav\n",
            "vs_release_16k/audio_16k/m2930_0_throatclearing.wav\n",
            "vs_release_16k/audio_16k/f2769_0_sniff.wav\n",
            "vs_release_16k/audio_16k/f1956_2_sneeze.wav\n",
            "vs_release_16k/audio_16k/f0998_0_laughter.wav\n",
            "vs_release_16k/audio_16k/m2523_0_laughter.wav\n",
            "vs_release_16k/audio_16k/m2536_0_laughter.wav\n",
            "vs_release_16k/audio_16k/f2899_0_sniff.wav\n",
            "vs_release_16k/audio_16k/f1216_0_sneeze.wav\n",
            "vs_release_16k/audio_16k/m1528_0_sigh.wav\n",
            "vs_release_16k/audio_16k/f2985_0_throatclearing.wav\n",
            "vs_release_16k/audio_16k/m1770_0_throatclearing.wav\n",
            "vs_release_16k/audio_16k/f0716_0_sneeze.wav\n",
            "vs_release_16k/audio_16k/f1941_1_sneeze.wav\n",
            "  Skipping m0072_0_throatclearing: Audio file is empty (size=0).\n",
            "vs_release_16k/audio_16k/f0743_0_sneeze.wav\n",
            "vs_release_16k/audio_16k/m1794_0_cough.wav\n",
            "vs_release_16k/audio_16k/m3123_0_cough.wav\n",
            "vs_release_16k/audio_16k/f0511_0_sniff.wav\n",
            "vs_release_16k/audio_16k/f0748_0_sigh.wav\n",
            "vs_release_16k/audio_16k/m0186_0_cough.wav\n",
            "vs_release_16k/audio_16k/m2743_0_sniff.wav\n",
            "vs_release_16k/audio_16k/m2731_0_cough.wav\n",
            "vs_release_16k/audio_16k/m2047_0_sneeze.wav\n",
            "vs_release_16k/audio_16k/f1303_0_sniff.wav\n",
            "vs_release_16k/audio_16k/m0563_2_cough.wav\n",
            "vs_release_16k/audio_16k/f2684_0_cough.wav\n",
            "vs_release_16k/audio_16k/f1621_0_cough.wav\n",
            "vs_release_16k/audio_16k/m0262_0_laughter.wav\n",
            "vs_release_16k/audio_16k/m2261_0_cough.wav\n",
            "vs_release_16k/audio_16k/m0618_0_throatclearing.wav\n",
            "vs_release_16k/audio_16k/f1653_0_sniff.wav\n",
            "vs_release_16k/audio_16k/f2558_0_sneeze.wav\n",
            "vs_release_16k/audio_16k/f0028_0_laughter.wav\n",
            "vs_release_16k/audio_16k/m0056_0_sigh.wav\n",
            "vs_release_16k/audio_16k/m1864_0_cough.wav\n",
            "vs_release_16k/audio_16k/m2393_0_sigh.wav\n",
            "vs_release_16k/audio_16k/f2192_0_sigh.wav\n",
            "  Skipping m0587_0_sneeze: Audio is too short (28235 samples) to create a 2s clip.\n",
            "vs_release_16k/audio_16k/f2368_0_laughter.wav\n",
            "vs_release_16k/audio_16k/m0973_0_sneeze.wav\n",
            "vs_release_16k/audio_16k/f0627_0_throatclearing.wav\n",
            "vs_release_16k/audio_16k/f1685_0_laughter.wav\n",
            "vs_release_16k/audio_16k/m0882_0_sniff.wav\n"
          ]
        },
        {
          "ename": "KeyboardInterrupt",
          "evalue": "",
          "output_type": "error",
          "traceback": [
            "\u001b[31m---------------------------------------------------------------------------\u001b[39m",
            "\u001b[31mTypeError\u001b[39m                                 Traceback (most recent call last)",
            "\u001b[36mFile \u001b[39m\u001b[32m~/Desktop/Projects/human-health-sounds/.venv/lib/python3.13/site-packages/tensorflow/python/eager/polymorphic_function/function_type_utils.py:442\u001b[39m, in \u001b[36mbind_function_inputs\u001b[39m\u001b[34m(args, kwargs, function_type, default_values)\u001b[39m\n\u001b[32m    441\u001b[39m \u001b[38;5;28;01mtry\u001b[39;00m:\n\u001b[32m--> \u001b[39m\u001b[32m442\u001b[39m   bound_arguments = \u001b[43mfunction_type\u001b[49m\u001b[43m.\u001b[49m\u001b[43mbind_with_defaults\u001b[49m\u001b[43m(\u001b[49m\n\u001b[32m    443\u001b[39m \u001b[43m      \u001b[49m\u001b[43margs\u001b[49m\u001b[43m,\u001b[49m\u001b[43m \u001b[49m\u001b[43msanitized_kwargs\u001b[49m\u001b[43m,\u001b[49m\u001b[43m \u001b[49m\u001b[43mdefault_values\u001b[49m\n\u001b[32m    444\u001b[39m \u001b[43m  \u001b[49m\u001b[43m)\u001b[49m\n\u001b[32m    445\u001b[39m \u001b[38;5;28;01mexcept\u001b[39;00m \u001b[38;5;167;01mException\u001b[39;00m \u001b[38;5;28;01mas\u001b[39;00m e:\n",
            "\u001b[36mFile \u001b[39m\u001b[32m~/Desktop/Projects/human-health-sounds/.venv/lib/python3.13/site-packages/tensorflow/core/function/polymorphism/function_type.py:264\u001b[39m, in \u001b[36mFunctionType.bind_with_defaults\u001b[39m\u001b[34m(self, args, kwargs, default_values)\u001b[39m\n\u001b[32m    263\u001b[39m \u001b[38;5;250m\u001b[39m\u001b[33;03m\"\"\"Returns BoundArguments with default values filled in.\"\"\"\u001b[39;00m\n\u001b[32m--> \u001b[39m\u001b[32m264\u001b[39m bound_arguments = \u001b[38;5;28;43mself\u001b[39;49m\u001b[43m.\u001b[49m\u001b[43mbind\u001b[49m\u001b[43m(\u001b[49m\u001b[43m*\u001b[49m\u001b[43margs\u001b[49m\u001b[43m,\u001b[49m\u001b[43m \u001b[49m\u001b[43m*\u001b[49m\u001b[43m*\u001b[49m\u001b[43mkwargs\u001b[49m\u001b[43m)\u001b[49m\n\u001b[32m    265\u001b[39m bound_arguments.apply_defaults()\n",
            "\u001b[36mFile \u001b[39m\u001b[32m/opt/homebrew/Cellar/python@3.13/3.13.7/Frameworks/Python.framework/Versions/3.13/lib/python3.13/inspect.py:3295\u001b[39m, in \u001b[36mSignature.bind\u001b[39m\u001b[34m(self, *args, **kwargs)\u001b[39m\n\u001b[32m   3291\u001b[39m \u001b[38;5;250m\u001b[39m\u001b[33;03m\"\"\"Get a BoundArguments object, that maps the passed `args`\u001b[39;00m\n\u001b[32m   3292\u001b[39m \u001b[33;03mand `kwargs` to the function's signature.  Raises `TypeError`\u001b[39;00m\n\u001b[32m   3293\u001b[39m \u001b[33;03mif the passed arguments can not be bound.\u001b[39;00m\n\u001b[32m   3294\u001b[39m \u001b[33;03m\"\"\"\u001b[39;00m\n\u001b[32m-> \u001b[39m\u001b[32m3295\u001b[39m \u001b[38;5;28;01mreturn\u001b[39;00m \u001b[38;5;28;43mself\u001b[39;49m\u001b[43m.\u001b[49m\u001b[43m_bind\u001b[49m\u001b[43m(\u001b[49m\u001b[43margs\u001b[49m\u001b[43m,\u001b[49m\u001b[43m \u001b[49m\u001b[43mkwargs\u001b[49m\u001b[43m)\u001b[49m\n",
            "\u001b[36mFile \u001b[39m\u001b[32m/opt/homebrew/Cellar/python@3.13/3.13.7/Frameworks/Python.framework/Versions/3.13/lib/python3.13/inspect.py:3219\u001b[39m, in \u001b[36mSignature._bind\u001b[39m\u001b[34m(self, args, kwargs, partial)\u001b[39m\n\u001b[32m   3216\u001b[39m \u001b[38;5;28;01mif\u001b[39;00m param.kind \u001b[38;5;129;01min\u001b[39;00m (_VAR_KEYWORD, _KEYWORD_ONLY):\n\u001b[32m   3217\u001b[39m     \u001b[38;5;66;03m# Looks like we have no parameter for this positional\u001b[39;00m\n\u001b[32m   3218\u001b[39m     \u001b[38;5;66;03m# argument\u001b[39;00m\n\u001b[32m-> \u001b[39m\u001b[32m3219\u001b[39m     \u001b[38;5;28;01mraise\u001b[39;00m \u001b[38;5;167;01mTypeError\u001b[39;00m(\n\u001b[32m   3220\u001b[39m         \u001b[33m'\u001b[39m\u001b[33mtoo many positional arguments\u001b[39m\u001b[33m'\u001b[39m) \u001b[38;5;28;01mfrom\u001b[39;00m\u001b[38;5;250m \u001b[39m\u001b[38;5;28;01mNone\u001b[39;00m\n\u001b[32m   3222\u001b[39m \u001b[38;5;28;01mif\u001b[39;00m param.kind == _VAR_POSITIONAL:\n\u001b[32m   3223\u001b[39m     \u001b[38;5;66;03m# We have an '*args'-like argument, let's fill it with\u001b[39;00m\n\u001b[32m   3224\u001b[39m     \u001b[38;5;66;03m# all positional arguments we have left and move on to\u001b[39;00m\n\u001b[32m   3225\u001b[39m     \u001b[38;5;66;03m# the next phase\u001b[39;00m\n",
            "\u001b[31mTypeError\u001b[39m: too many positional arguments",
            "\nThe above exception was the direct cause of the following exception:\n",
            "\u001b[31mTypeError\u001b[39m                                 Traceback (most recent call last)",
            "\u001b[36mFile \u001b[39m\u001b[32m~/Desktop/Projects/human-health-sounds/.venv/lib/python3.13/site-packages/tensorflow/python/eager/polymorphic_function/concrete_function.py:1179\u001b[39m, in \u001b[36mConcreteFunction._call_impl\u001b[39m\u001b[34m(self, args, kwargs)\u001b[39m\n\u001b[32m   1178\u001b[39m \u001b[38;5;28;01mtry\u001b[39;00m:\n\u001b[32m-> \u001b[39m\u001b[32m1179\u001b[39m   \u001b[38;5;28;01mreturn\u001b[39;00m \u001b[38;5;28;43mself\u001b[39;49m\u001b[43m.\u001b[49m\u001b[43m_call_with_structured_signature\u001b[49m\u001b[43m(\u001b[49m\u001b[43margs\u001b[49m\u001b[43m,\u001b[49m\u001b[43m \u001b[49m\u001b[43mkwargs\u001b[49m\u001b[43m)\u001b[49m\n\u001b[32m   1180\u001b[39m \u001b[38;5;28;01mexcept\u001b[39;00m \u001b[38;5;167;01mTypeError\u001b[39;00m \u001b[38;5;28;01mas\u001b[39;00m structured_err:\n",
            "\u001b[36mFile \u001b[39m\u001b[32m~/Desktop/Projects/human-health-sounds/.venv/lib/python3.13/site-packages/tensorflow/python/eager/polymorphic_function/concrete_function.py:1259\u001b[39m, in \u001b[36mConcreteFunction._call_with_structured_signature\u001b[39m\u001b[34m(self, args, kwargs)\u001b[39m\n\u001b[32m   1245\u001b[39m \u001b[38;5;250m\u001b[39m\u001b[33;03m\"\"\"Executes the wrapped function with the structured signature.\u001b[39;00m\n\u001b[32m   1246\u001b[39m \n\u001b[32m   1247\u001b[39m \u001b[33;03mArgs:\u001b[39;00m\n\u001b[32m   (...)\u001b[39m\u001b[32m   1256\u001b[39m \u001b[33;03m    of this `ConcreteFunction`.\u001b[39;00m\n\u001b[32m   1257\u001b[39m \u001b[33;03m\"\"\"\u001b[39;00m\n\u001b[32m   1258\u001b[39m bound_args = (\n\u001b[32m-> \u001b[39m\u001b[32m1259\u001b[39m     \u001b[43mfunction_type_utils\u001b[49m\u001b[43m.\u001b[49m\u001b[43mcanonicalize_function_inputs\u001b[49m\u001b[43m(\u001b[49m\n\u001b[32m   1260\u001b[39m \u001b[43m        \u001b[49m\u001b[43margs\u001b[49m\u001b[43m,\u001b[49m\u001b[43m \u001b[49m\u001b[43mkwargs\u001b[49m\u001b[43m,\u001b[49m\u001b[43m \u001b[49m\u001b[38;5;28;43mself\u001b[39;49m\u001b[43m.\u001b[49m\u001b[43mfunction_type\u001b[49m\u001b[43m)\u001b[49m\n\u001b[32m   1261\u001b[39m )\n\u001b[32m   1262\u001b[39m filtered_flat_args = \u001b[38;5;28mself\u001b[39m.function_type.unpack_inputs(bound_args)\n",
            "\u001b[36mFile \u001b[39m\u001b[32m~/Desktop/Projects/human-health-sounds/.venv/lib/python3.13/site-packages/tensorflow/python/eager/polymorphic_function/function_type_utils.py:422\u001b[39m, in \u001b[36mcanonicalize_function_inputs\u001b[39m\u001b[34m(args, kwargs, function_type, default_values, is_pure)\u001b[39m\n\u001b[32m    421\u001b[39m   args, kwargs = _convert_variables_to_tensors(args, kwargs)\n\u001b[32m--> \u001b[39m\u001b[32m422\u001b[39m bound_arguments = \u001b[43mbind_function_inputs\u001b[49m\u001b[43m(\u001b[49m\n\u001b[32m    423\u001b[39m \u001b[43m    \u001b[49m\u001b[43margs\u001b[49m\u001b[43m,\u001b[49m\u001b[43m \u001b[49m\u001b[43mkwargs\u001b[49m\u001b[43m,\u001b[49m\u001b[43m \u001b[49m\u001b[43mfunction_type\u001b[49m\u001b[43m,\u001b[49m\u001b[43m \u001b[49m\u001b[43mdefault_values\u001b[49m\n\u001b[32m    424\u001b[39m \u001b[43m\u001b[49m\u001b[43m)\u001b[49m\n\u001b[32m    425\u001b[39m \u001b[38;5;28;01mreturn\u001b[39;00m bound_arguments\n",
            "\u001b[36mFile \u001b[39m\u001b[32m~/Desktop/Projects/human-health-sounds/.venv/lib/python3.13/site-packages/tensorflow/python/eager/polymorphic_function/function_type_utils.py:446\u001b[39m, in \u001b[36mbind_function_inputs\u001b[39m\u001b[34m(args, kwargs, function_type, default_values)\u001b[39m\n\u001b[32m    445\u001b[39m \u001b[38;5;28;01mexcept\u001b[39;00m \u001b[38;5;167;01mException\u001b[39;00m \u001b[38;5;28;01mas\u001b[39;00m e:\n\u001b[32m--> \u001b[39m\u001b[32m446\u001b[39m   \u001b[38;5;28;01mraise\u001b[39;00m \u001b[38;5;167;01mTypeError\u001b[39;00m(\n\u001b[32m    447\u001b[39m       \u001b[33mf\u001b[39m\u001b[33m\"\u001b[39m\u001b[33mBinding inputs to tf.function failed due to `\u001b[39m\u001b[38;5;132;01m{\u001b[39;00me\u001b[38;5;132;01m}\u001b[39;00m\u001b[33m`. \u001b[39m\u001b[33m\"\u001b[39m\n\u001b[32m    448\u001b[39m       \u001b[33mf\u001b[39m\u001b[33m\"\u001b[39m\u001b[33mReceived args: \u001b[39m\u001b[38;5;132;01m{\u001b[39;00margs\u001b[38;5;132;01m}\u001b[39;00m\u001b[33m and kwargs: \u001b[39m\u001b[38;5;132;01m{\u001b[39;00msanitized_kwargs\u001b[38;5;132;01m}\u001b[39;00m\u001b[33m for signature:\u001b[39m\u001b[33m\"\u001b[39m\n\u001b[32m    449\u001b[39m       \u001b[33mf\u001b[39m\u001b[33m\"\u001b[39m\u001b[33m \u001b[39m\u001b[38;5;132;01m{\u001b[39;00mfunction_type\u001b[38;5;132;01m}\u001b[39;00m\u001b[33m.\u001b[39m\u001b[33m\"\u001b[39m\n\u001b[32m    450\u001b[39m   ) \u001b[38;5;28;01mfrom\u001b[39;00m\u001b[38;5;250m \u001b[39m\u001b[34;01me\u001b[39;00m\n\u001b[32m    451\u001b[39m \u001b[38;5;28;01mreturn\u001b[39;00m bound_arguments\n",
            "\u001b[31mTypeError\u001b[39m: Binding inputs to tf.function failed due to `too many positional arguments`. Received args: (<tf.Tensor: shape=(5, 32000), dtype=float32, numpy=\narray([[ 9.7656250e-04,  2.2583008e-03,  1.1901855e-03, ...,\n         1.2207031e-04, -1.2207031e-04, -1.2207031e-04],\n       [ 1.5258789e-04,  0.0000000e+00,  1.2207031e-04, ...,\n        -2.0349121e-01, -1.3519287e-01, -2.4627686e-02],\n       [-8.5449219e-04, -1.0070801e-03, -3.8757324e-03, ...,\n        -9.1552734e-05, -6.1035156e-05, -3.0517578e-05],\n       [ 4.8828125e-04,  4.8828125e-04,  8.2397461e-04, ...,\n        -5.4931641e-03, -5.7373047e-03, -5.0354004e-03],\n       [ 2.7099609e-02,  4.4158936e-02,  5.6213379e-02, ...,\n        -6.1035156e-05,  3.3569336e-04,  3.3569336e-04]],\n      shape=(5, 32000), dtype=float32)>,) and kwargs: {} for signature: (*, x: TensorSpec(shape=(None, 32000), dtype=tf.float32, name='x')) -> Dict[['output_0', TensorSpec(shape=(None, 512), dtype=tf.float32, name='output_0')]].",
            "\nDuring handling of the above exception, another exception occurred:\n",
            "\u001b[31mKeyboardInterrupt\u001b[39m                         Traceback (most recent call last)",
            "\u001b[36mCell\u001b[39m\u001b[36m \u001b[39m\u001b[32mIn[13]\u001b[39m\u001b[32m, line 246\u001b[39m\n\u001b[32m    242\u001b[39m clip_batch = np.asarray(clip_batch)\n\u001b[32m    244\u001b[39m \u001b[38;5;28;01mif\u001b[39;00m base_file_name \u001b[38;5;129;01mnot\u001b[39;00m \u001b[38;5;129;01min\u001b[39;00m file_embeddings_cache:\n\u001b[32m    245\u001b[39m     \u001b[38;5;66;03m# print(\"  Performing batch inference...\")\u001b[39;00m\n\u001b[32m--> \u001b[39m\u001b[32m246\u001b[39m     embedding_batch = \u001b[43mhear_layer\u001b[49m\u001b[43m(\u001b[49m\u001b[43mclip_batch\u001b[49m\u001b[43m)\u001b[49m[\u001b[33m'\u001b[39m\u001b[33moutput_0\u001b[39m\u001b[33m'\u001b[39m].numpy()\n\u001b[32m    247\u001b[39m     file_embeddings_cache[base_file_name] = embedding_batch\n\u001b[32m    248\u001b[39m \u001b[38;5;28;01melse\u001b[39;00m:\n",
            "\u001b[36mFile \u001b[39m\u001b[32m~/Desktop/Projects/human-health-sounds/.venv/lib/python3.13/site-packages/keras/src/utils/traceback_utils.py:117\u001b[39m, in \u001b[36mfilter_traceback.<locals>.error_handler\u001b[39m\u001b[34m(*args, **kwargs)\u001b[39m\n\u001b[32m    115\u001b[39m filtered_tb = \u001b[38;5;28;01mNone\u001b[39;00m\n\u001b[32m    116\u001b[39m \u001b[38;5;28;01mtry\u001b[39;00m:\n\u001b[32m--> \u001b[39m\u001b[32m117\u001b[39m     \u001b[38;5;28;01mreturn\u001b[39;00m \u001b[43mfn\u001b[49m\u001b[43m(\u001b[49m\u001b[43m*\u001b[49m\u001b[43margs\u001b[49m\u001b[43m,\u001b[49m\u001b[43m \u001b[49m\u001b[43m*\u001b[49m\u001b[43m*\u001b[49m\u001b[43mkwargs\u001b[49m\u001b[43m)\u001b[49m\n\u001b[32m    118\u001b[39m \u001b[38;5;28;01mexcept\u001b[39;00m \u001b[38;5;167;01mException\u001b[39;00m \u001b[38;5;28;01mas\u001b[39;00m e:\n\u001b[32m    119\u001b[39m     filtered_tb = _process_traceback_frames(e.__traceback__)\n",
            "\u001b[36mFile \u001b[39m\u001b[32m~/Desktop/Projects/human-health-sounds/.venv/lib/python3.13/site-packages/keras/src/layers/layer.py:941\u001b[39m, in \u001b[36mLayer.__call__\u001b[39m\u001b[34m(self, *args, **kwargs)\u001b[39m\n\u001b[32m    939\u001b[39m         outputs = \u001b[38;5;28msuper\u001b[39m().\u001b[34m__call__\u001b[39m(*args, **kwargs)\n\u001b[32m    940\u001b[39m \u001b[38;5;28;01melse\u001b[39;00m:\n\u001b[32m--> \u001b[39m\u001b[32m941\u001b[39m     outputs = \u001b[38;5;28;43msuper\u001b[39;49m\u001b[43m(\u001b[49m\u001b[43m)\u001b[49m\u001b[43m.\u001b[49m\u001b[34;43m__call__\u001b[39;49m\u001b[43m(\u001b[49m\u001b[43m*\u001b[49m\u001b[43margs\u001b[49m\u001b[43m,\u001b[49m\u001b[43m \u001b[49m\u001b[43m*\u001b[49m\u001b[43m*\u001b[49m\u001b[43mkwargs\u001b[49m\u001b[43m)\u001b[49m\n\u001b[32m    942\u001b[39m \u001b[38;5;66;03m# Change the layout for the layer output if needed.\u001b[39;00m\n\u001b[32m    943\u001b[39m \u001b[38;5;66;03m# This is useful for relayout intermediate tensor in the model\u001b[39;00m\n\u001b[32m    944\u001b[39m \u001b[38;5;66;03m# to achieve the optimal performance.\u001b[39;00m\n\u001b[32m    945\u001b[39m distribution = distribution_lib.distribution()\n",
            "\u001b[36mFile \u001b[39m\u001b[32m~/Desktop/Projects/human-health-sounds/.venv/lib/python3.13/site-packages/keras/src/utils/traceback_utils.py:117\u001b[39m, in \u001b[36mfilter_traceback.<locals>.error_handler\u001b[39m\u001b[34m(*args, **kwargs)\u001b[39m\n\u001b[32m    115\u001b[39m filtered_tb = \u001b[38;5;28;01mNone\u001b[39;00m\n\u001b[32m    116\u001b[39m \u001b[38;5;28;01mtry\u001b[39;00m:\n\u001b[32m--> \u001b[39m\u001b[32m117\u001b[39m     \u001b[38;5;28;01mreturn\u001b[39;00m \u001b[43mfn\u001b[49m\u001b[43m(\u001b[49m\u001b[43m*\u001b[49m\u001b[43margs\u001b[49m\u001b[43m,\u001b[49m\u001b[43m \u001b[49m\u001b[43m*\u001b[49m\u001b[43m*\u001b[49m\u001b[43mkwargs\u001b[49m\u001b[43m)\u001b[49m\n\u001b[32m    118\u001b[39m \u001b[38;5;28;01mexcept\u001b[39;00m \u001b[38;5;167;01mException\u001b[39;00m \u001b[38;5;28;01mas\u001b[39;00m e:\n\u001b[32m    119\u001b[39m     filtered_tb = _process_traceback_frames(e.__traceback__)\n",
            "\u001b[36mFile \u001b[39m\u001b[32m~/Desktop/Projects/human-health-sounds/.venv/lib/python3.13/site-packages/keras/src/ops/operation.py:59\u001b[39m, in \u001b[36mOperation.__call__\u001b[39m\u001b[34m(self, *args, **kwargs)\u001b[39m\n\u001b[32m     54\u001b[39m                 call_fn = \u001b[38;5;28mself\u001b[39m.call\n\u001b[32m     55\u001b[39m     call_fn = traceback_utils.inject_argument_info_in_traceback(\n\u001b[32m     56\u001b[39m         call_fn,\n\u001b[32m     57\u001b[39m         object_name=(\u001b[33mf\u001b[39m\u001b[33m\"\u001b[39m\u001b[38;5;132;01m{\u001b[39;00m\u001b[38;5;28mself\u001b[39m.\u001b[34m__class__\u001b[39m.\u001b[34m__name__\u001b[39m\u001b[38;5;132;01m}\u001b[39;00m\u001b[33m.call()\u001b[39m\u001b[33m\"\u001b[39m),\n\u001b[32m     58\u001b[39m     )\n\u001b[32m---> \u001b[39m\u001b[32m59\u001b[39m     \u001b[38;5;28;01mreturn\u001b[39;00m \u001b[43mcall_fn\u001b[49m\u001b[43m(\u001b[49m\u001b[43m*\u001b[49m\u001b[43margs\u001b[49m\u001b[43m,\u001b[49m\u001b[43m \u001b[49m\u001b[43m*\u001b[49m\u001b[43m*\u001b[49m\u001b[43mkwargs\u001b[49m\u001b[43m)\u001b[49m\n\u001b[32m     61\u001b[39m \u001b[38;5;66;03m# Plain flow.\u001b[39;00m\n\u001b[32m     62\u001b[39m \u001b[38;5;28;01mif\u001b[39;00m any_symbolic_tensors(args, kwargs):\n",
            "\u001b[36mFile \u001b[39m\u001b[32m~/Desktop/Projects/human-health-sounds/.venv/lib/python3.13/site-packages/keras/src/utils/traceback_utils.py:156\u001b[39m, in \u001b[36minject_argument_info_in_traceback.<locals>.error_handler\u001b[39m\u001b[34m(*args, **kwargs)\u001b[39m\n\u001b[32m    154\u001b[39m bound_signature = \u001b[38;5;28;01mNone\u001b[39;00m\n\u001b[32m    155\u001b[39m \u001b[38;5;28;01mtry\u001b[39;00m:\n\u001b[32m--> \u001b[39m\u001b[32m156\u001b[39m     \u001b[38;5;28;01mreturn\u001b[39;00m \u001b[43mfn\u001b[49m\u001b[43m(\u001b[49m\u001b[43m*\u001b[49m\u001b[43margs\u001b[49m\u001b[43m,\u001b[49m\u001b[43m \u001b[49m\u001b[43m*\u001b[49m\u001b[43m*\u001b[49m\u001b[43mkwargs\u001b[49m\u001b[43m)\u001b[49m\n\u001b[32m    157\u001b[39m \u001b[38;5;28;01mexcept\u001b[39;00m \u001b[38;5;167;01mException\u001b[39;00m \u001b[38;5;28;01mas\u001b[39;00m e:\n\u001b[32m    158\u001b[39m     \u001b[38;5;28;01mif\u001b[39;00m \u001b[38;5;28mhasattr\u001b[39m(e, \u001b[33m\"\u001b[39m\u001b[33m_keras_call_info_injected\u001b[39m\u001b[33m\"\u001b[39m):\n\u001b[32m    159\u001b[39m         \u001b[38;5;66;03m# Only inject info for the innermost failing call\u001b[39;00m\n",
            "\u001b[36mFile \u001b[39m\u001b[32m~/Desktop/Projects/human-health-sounds/.venv/lib/python3.13/site-packages/keras/src/export/tfsm_layer.py:138\u001b[39m, in \u001b[36mTFSMLayer.call\u001b[39m\u001b[34m(self, inputs, training, **kwargs)\u001b[39m\n\u001b[32m    136\u001b[39m     \u001b[38;5;28;01mif\u001b[39;00m \u001b[38;5;28mself\u001b[39m.call_training_endpoint:\n\u001b[32m    137\u001b[39m         \u001b[38;5;28;01mreturn\u001b[39;00m \u001b[38;5;28mself\u001b[39m.call_training_endpoint_fn(inputs, **kwargs)\n\u001b[32m--> \u001b[39m\u001b[32m138\u001b[39m \u001b[38;5;28;01mreturn\u001b[39;00m \u001b[38;5;28;43mself\u001b[39;49m\u001b[43m.\u001b[49m\u001b[43mcall_endpoint_fn\u001b[49m\u001b[43m(\u001b[49m\u001b[43minputs\u001b[49m\u001b[43m,\u001b[49m\u001b[43m \u001b[49m\u001b[43m*\u001b[49m\u001b[43m*\u001b[49m\u001b[43mkwargs\u001b[49m\u001b[43m)\u001b[49m\n",
            "\u001b[36mFile \u001b[39m\u001b[32m~/Desktop/Projects/human-health-sounds/.venv/lib/python3.13/site-packages/tensorflow/python/eager/polymorphic_function/concrete_function.py:1170\u001b[39m, in \u001b[36mConcreteFunction.__call__\u001b[39m\u001b[34m(self, *args, **kwargs)\u001b[39m\n\u001b[32m   1120\u001b[39m \u001b[38;5;28;01mdef\u001b[39;00m\u001b[38;5;250m \u001b[39m\u001b[34m__call__\u001b[39m(\u001b[38;5;28mself\u001b[39m, *args, **kwargs):\n\u001b[32m   1121\u001b[39m \u001b[38;5;250m  \u001b[39m\u001b[33;03m\"\"\"Executes the wrapped function.\u001b[39;00m\n\u001b[32m   1122\u001b[39m \n\u001b[32m   1123\u001b[39m \u001b[33;03m  ConcreteFunctions have two signatures:\u001b[39;00m\n\u001b[32m   (...)\u001b[39m\u001b[32m   1168\u001b[39m \u001b[33;03m    TypeError: If the arguments do not match the function's signature.\u001b[39;00m\n\u001b[32m   1169\u001b[39m \u001b[33;03m  \"\"\"\u001b[39;00m\n\u001b[32m-> \u001b[39m\u001b[32m1170\u001b[39m   \u001b[38;5;28;01mreturn\u001b[39;00m \u001b[38;5;28;43mself\u001b[39;49m\u001b[43m.\u001b[49m\u001b[43m_call_impl\u001b[49m\u001b[43m(\u001b[49m\u001b[43margs\u001b[49m\u001b[43m,\u001b[49m\u001b[43m \u001b[49m\u001b[43mkwargs\u001b[49m\u001b[43m)\u001b[49m\n",
            "\u001b[36mFile \u001b[39m\u001b[32m~/Desktop/Projects/human-health-sounds/.venv/lib/python3.13/site-packages/tensorflow/python/eager/polymorphic_function/concrete_function.py:1182\u001b[39m, in \u001b[36mConcreteFunction._call_impl\u001b[39m\u001b[34m(self, args, kwargs)\u001b[39m\n\u001b[32m   1180\u001b[39m \u001b[38;5;28;01mexcept\u001b[39;00m \u001b[38;5;167;01mTypeError\u001b[39;00m \u001b[38;5;28;01mas\u001b[39;00m structured_err:\n\u001b[32m   1181\u001b[39m   \u001b[38;5;28;01mtry\u001b[39;00m:\n\u001b[32m-> \u001b[39m\u001b[32m1182\u001b[39m     \u001b[38;5;28;01mreturn\u001b[39;00m \u001b[38;5;28;43mself\u001b[39;49m\u001b[43m.\u001b[49m\u001b[43m_call_with_flat_signature\u001b[49m\u001b[43m(\u001b[49m\u001b[43margs\u001b[49m\u001b[43m,\u001b[49m\u001b[43m \u001b[49m\u001b[43mkwargs\u001b[49m\u001b[43m)\u001b[49m\n\u001b[32m   1183\u001b[39m   \u001b[38;5;28;01mexcept\u001b[39;00m (\u001b[38;5;167;01mTypeError\u001b[39;00m, \u001b[38;5;167;01mValueError\u001b[39;00m) \u001b[38;5;28;01mas\u001b[39;00m flat_err:\n\u001b[32m   1184\u001b[39m     \u001b[38;5;28;01mraise\u001b[39;00m \u001b[38;5;167;01mTypeError\u001b[39;00m(  \u001b[38;5;66;03m# pylint: disable=raise-missing-from\u001b[39;00m\n\u001b[32m   1185\u001b[39m         \u001b[38;5;28mstr\u001b[39m(structured_err)\n\u001b[32m   1186\u001b[39m         + \u001b[33m\"\u001b[39m\u001b[38;5;130;01m\\n\u001b[39;00m\u001b[33mFallback to flat signature also failed due to: \u001b[39m\u001b[33m\"\u001b[39m\n\u001b[32m   1187\u001b[39m         + \u001b[38;5;28mstr\u001b[39m(flat_err)\n\u001b[32m   1188\u001b[39m     )\n",
            "\u001b[36mFile \u001b[39m\u001b[32m~/Desktop/Projects/human-health-sounds/.venv/lib/python3.13/site-packages/tensorflow/python/eager/polymorphic_function/concrete_function.py:1242\u001b[39m, in \u001b[36mConcreteFunction._call_with_flat_signature\u001b[39m\u001b[34m(self, args, kwargs)\u001b[39m\n\u001b[32m   1237\u001b[39m   \u001b[38;5;28;01mif\u001b[39;00m \u001b[38;5;129;01mnot\u001b[39;00m \u001b[38;5;28misinstance\u001b[39m(\n\u001b[32m   1238\u001b[39m       arg, (tensor_lib.Tensor, resource_variable_ops.BaseResourceVariable)):\n\u001b[32m   1239\u001b[39m     \u001b[38;5;28;01mraise\u001b[39;00m \u001b[38;5;167;01mTypeError\u001b[39;00m(\u001b[33mf\u001b[39m\u001b[33m\"\u001b[39m\u001b[38;5;132;01m{\u001b[39;00m\u001b[38;5;28mself\u001b[39m._flat_signature_summary()\u001b[38;5;132;01m}\u001b[39;00m\u001b[33m: expected argument \u001b[39m\u001b[33m\"\u001b[39m\n\u001b[32m   1240\u001b[39m                     \u001b[33mf\u001b[39m\u001b[33m\"\u001b[39m\u001b[33m#\u001b[39m\u001b[38;5;132;01m{\u001b[39;00mi\u001b[38;5;132;01m}\u001b[39;00m\u001b[33m(zero-based) to be a Tensor; \u001b[39m\u001b[33m\"\u001b[39m\n\u001b[32m   1241\u001b[39m                     \u001b[33mf\u001b[39m\u001b[33m\"\u001b[39m\u001b[33mgot \u001b[39m\u001b[38;5;132;01m{\u001b[39;00m\u001b[38;5;28mtype\u001b[39m(arg).\u001b[34m__name__\u001b[39m\u001b[38;5;132;01m}\u001b[39;00m\u001b[33m (\u001b[39m\u001b[38;5;132;01m{\u001b[39;00marg\u001b[38;5;132;01m}\u001b[39;00m\u001b[33m).\u001b[39m\u001b[33m\"\u001b[39m)\n\u001b[32m-> \u001b[39m\u001b[32m1242\u001b[39m \u001b[38;5;28;01mreturn\u001b[39;00m \u001b[38;5;28;43mself\u001b[39;49m\u001b[43m.\u001b[49m\u001b[43m_call_flat\u001b[49m\u001b[43m(\u001b[49m\u001b[43margs\u001b[49m\u001b[43m,\u001b[49m\u001b[43m \u001b[49m\u001b[38;5;28;43mself\u001b[39;49m\u001b[43m.\u001b[49m\u001b[43mcaptured_inputs\u001b[49m\u001b[43m)\u001b[49m\n",
            "\u001b[36mFile \u001b[39m\u001b[32m~/Desktop/Projects/human-health-sounds/.venv/lib/python3.13/site-packages/tensorflow/python/saved_model/load.py:146\u001b[39m, in \u001b[36m_WrapperFunction._call_flat\u001b[39m\u001b[34m(self, args, captured_inputs)\u001b[39m\n\u001b[32m    144\u001b[39m \u001b[38;5;28;01melse\u001b[39;00m:  \u001b[38;5;66;03m# cross-replica context\u001b[39;00m\n\u001b[32m    145\u001b[39m   captured_inputs = \u001b[38;5;28mlist\u001b[39m(\u001b[38;5;28mmap\u001b[39m(get_unused_handle, captured_inputs))\n\u001b[32m--> \u001b[39m\u001b[32m146\u001b[39m \u001b[38;5;28;01mreturn\u001b[39;00m \u001b[38;5;28;43msuper\u001b[39;49m\u001b[43m(\u001b[49m\u001b[43m)\u001b[49m\u001b[43m.\u001b[49m\u001b[43m_call_flat\u001b[49m\u001b[43m(\u001b[49m\u001b[43margs\u001b[49m\u001b[43m,\u001b[49m\u001b[43m \u001b[49m\u001b[43mcaptured_inputs\u001b[49m\u001b[43m)\u001b[49m\n",
            "\u001b[36mFile \u001b[39m\u001b[32m~/Desktop/Projects/human-health-sounds/.venv/lib/python3.13/site-packages/tensorflow/python/eager/polymorphic_function/concrete_function.py:1322\u001b[39m, in \u001b[36mConcreteFunction._call_flat\u001b[39m\u001b[34m(self, tensor_inputs, captured_inputs)\u001b[39m\n\u001b[32m   1318\u001b[39m possible_gradient_type = gradients_util.PossibleTapeGradientTypes(args)\n\u001b[32m   1319\u001b[39m \u001b[38;5;28;01mif\u001b[39;00m (possible_gradient_type == gradients_util.POSSIBLE_GRADIENT_TYPES_NONE\n\u001b[32m   1320\u001b[39m     \u001b[38;5;129;01mand\u001b[39;00m executing_eagerly):\n\u001b[32m   1321\u001b[39m   \u001b[38;5;66;03m# No tape is watching; skip to running the function.\u001b[39;00m\n\u001b[32m-> \u001b[39m\u001b[32m1322\u001b[39m   \u001b[38;5;28;01mreturn\u001b[39;00m \u001b[38;5;28;43mself\u001b[39;49m\u001b[43m.\u001b[49m\u001b[43m_inference_function\u001b[49m\u001b[43m.\u001b[49m\u001b[43mcall_preflattened\u001b[49m\u001b[43m(\u001b[49m\u001b[43margs\u001b[49m\u001b[43m)\u001b[49m\n\u001b[32m   1323\u001b[39m forward_backward = \u001b[38;5;28mself\u001b[39m._select_forward_and_backward_functions(\n\u001b[32m   1324\u001b[39m     args,\n\u001b[32m   1325\u001b[39m     possible_gradient_type,\n\u001b[32m   1326\u001b[39m     executing_eagerly)\n\u001b[32m   1327\u001b[39m forward_function, args_with_tangents = forward_backward.forward()\n",
            "\u001b[36mFile \u001b[39m\u001b[32m~/Desktop/Projects/human-health-sounds/.venv/lib/python3.13/site-packages/tensorflow/python/eager/polymorphic_function/atomic_function.py:216\u001b[39m, in \u001b[36mAtomicFunction.call_preflattened\u001b[39m\u001b[34m(self, args)\u001b[39m\n\u001b[32m    214\u001b[39m \u001b[38;5;28;01mdef\u001b[39;00m\u001b[38;5;250m \u001b[39m\u001b[34mcall_preflattened\u001b[39m(\u001b[38;5;28mself\u001b[39m, args: Sequence[core.Tensor]) -> Any:\n\u001b[32m    215\u001b[39m \u001b[38;5;250m  \u001b[39m\u001b[33;03m\"\"\"Calls with flattened tensor inputs and returns the structured output.\"\"\"\u001b[39;00m\n\u001b[32m--> \u001b[39m\u001b[32m216\u001b[39m   flat_outputs = \u001b[38;5;28;43mself\u001b[39;49m\u001b[43m.\u001b[49m\u001b[43mcall_flat\u001b[49m\u001b[43m(\u001b[49m\u001b[43m*\u001b[49m\u001b[43margs\u001b[49m\u001b[43m)\u001b[49m\n\u001b[32m    217\u001b[39m   \u001b[38;5;28;01mreturn\u001b[39;00m \u001b[38;5;28mself\u001b[39m.function_type.pack_output(flat_outputs)\n",
            "\u001b[36mFile \u001b[39m\u001b[32m~/Desktop/Projects/human-health-sounds/.venv/lib/python3.13/site-packages/tensorflow/python/eager/polymorphic_function/atomic_function.py:251\u001b[39m, in \u001b[36mAtomicFunction.call_flat\u001b[39m\u001b[34m(self, *args)\u001b[39m\n\u001b[32m    249\u001b[39m \u001b[38;5;28;01mwith\u001b[39;00m record.stop_recording():\n\u001b[32m    250\u001b[39m   \u001b[38;5;28;01mif\u001b[39;00m \u001b[38;5;28mself\u001b[39m._bound_context.executing_eagerly():\n\u001b[32m--> \u001b[39m\u001b[32m251\u001b[39m     outputs = \u001b[38;5;28;43mself\u001b[39;49m\u001b[43m.\u001b[49m\u001b[43m_bound_context\u001b[49m\u001b[43m.\u001b[49m\u001b[43mcall_function\u001b[49m\u001b[43m(\u001b[49m\n\u001b[32m    252\u001b[39m \u001b[43m        \u001b[49m\u001b[38;5;28;43mself\u001b[39;49m\u001b[43m.\u001b[49m\u001b[43mname\u001b[49m\u001b[43m,\u001b[49m\n\u001b[32m    253\u001b[39m \u001b[43m        \u001b[49m\u001b[38;5;28;43mlist\u001b[39;49m\u001b[43m(\u001b[49m\u001b[43margs\u001b[49m\u001b[43m)\u001b[49m\u001b[43m,\u001b[49m\n\u001b[32m    254\u001b[39m \u001b[43m        \u001b[49m\u001b[38;5;28;43mlen\u001b[39;49m\u001b[43m(\u001b[49m\u001b[38;5;28;43mself\u001b[39;49m\u001b[43m.\u001b[49m\u001b[43mfunction_type\u001b[49m\u001b[43m.\u001b[49m\u001b[43mflat_outputs\u001b[49m\u001b[43m)\u001b[49m\u001b[43m,\u001b[49m\n\u001b[32m    255\u001b[39m \u001b[43m    \u001b[49m\u001b[43m)\u001b[49m\n\u001b[32m    256\u001b[39m   \u001b[38;5;28;01melse\u001b[39;00m:\n\u001b[32m    257\u001b[39m     outputs = make_call_op_in_graph(\n\u001b[32m    258\u001b[39m         \u001b[38;5;28mself\u001b[39m,\n\u001b[32m    259\u001b[39m         \u001b[38;5;28mlist\u001b[39m(args),\n\u001b[32m    260\u001b[39m         \u001b[38;5;28mself\u001b[39m._bound_context.function_call_options.as_attrs(),\n\u001b[32m    261\u001b[39m     )\n",
            "\u001b[36mFile \u001b[39m\u001b[32m~/Desktop/Projects/human-health-sounds/.venv/lib/python3.13/site-packages/tensorflow/python/eager/context.py:1688\u001b[39m, in \u001b[36mContext.call_function\u001b[39m\u001b[34m(self, name, tensor_inputs, num_outputs)\u001b[39m\n\u001b[32m   1686\u001b[39m cancellation_context = cancellation.context()\n\u001b[32m   1687\u001b[39m \u001b[38;5;28;01mif\u001b[39;00m cancellation_context \u001b[38;5;129;01mis\u001b[39;00m \u001b[38;5;28;01mNone\u001b[39;00m:\n\u001b[32m-> \u001b[39m\u001b[32m1688\u001b[39m   outputs = \u001b[43mexecute\u001b[49m\u001b[43m.\u001b[49m\u001b[43mexecute\u001b[49m\u001b[43m(\u001b[49m\n\u001b[32m   1689\u001b[39m \u001b[43m      \u001b[49m\u001b[43mname\u001b[49m\u001b[43m.\u001b[49m\u001b[43mdecode\u001b[49m\u001b[43m(\u001b[49m\u001b[33;43m\"\u001b[39;49m\u001b[33;43mutf-8\u001b[39;49m\u001b[33;43m\"\u001b[39;49m\u001b[43m)\u001b[49m\u001b[43m,\u001b[49m\n\u001b[32m   1690\u001b[39m \u001b[43m      \u001b[49m\u001b[43mnum_outputs\u001b[49m\u001b[43m=\u001b[49m\u001b[43mnum_outputs\u001b[49m\u001b[43m,\u001b[49m\n\u001b[32m   1691\u001b[39m \u001b[43m      \u001b[49m\u001b[43minputs\u001b[49m\u001b[43m=\u001b[49m\u001b[43mtensor_inputs\u001b[49m\u001b[43m,\u001b[49m\n\u001b[32m   1692\u001b[39m \u001b[43m      \u001b[49m\u001b[43mattrs\u001b[49m\u001b[43m=\u001b[49m\u001b[43mattrs\u001b[49m\u001b[43m,\u001b[49m\n\u001b[32m   1693\u001b[39m \u001b[43m      \u001b[49m\u001b[43mctx\u001b[49m\u001b[43m=\u001b[49m\u001b[38;5;28;43mself\u001b[39;49m\u001b[43m,\u001b[49m\n\u001b[32m   1694\u001b[39m \u001b[43m  \u001b[49m\u001b[43m)\u001b[49m\n\u001b[32m   1695\u001b[39m \u001b[38;5;28;01melse\u001b[39;00m:\n\u001b[32m   1696\u001b[39m   outputs = execute.execute_with_cancellation(\n\u001b[32m   1697\u001b[39m       name.decode(\u001b[33m\"\u001b[39m\u001b[33mutf-8\u001b[39m\u001b[33m\"\u001b[39m),\n\u001b[32m   1698\u001b[39m       num_outputs=num_outputs,\n\u001b[32m   (...)\u001b[39m\u001b[32m   1702\u001b[39m       cancellation_manager=cancellation_context,\n\u001b[32m   1703\u001b[39m   )\n",
            "\u001b[36mFile \u001b[39m\u001b[32m~/Desktop/Projects/human-health-sounds/.venv/lib/python3.13/site-packages/tensorflow/python/eager/execute.py:53\u001b[39m, in \u001b[36mquick_execute\u001b[39m\u001b[34m(op_name, num_outputs, inputs, attrs, ctx, name)\u001b[39m\n\u001b[32m     51\u001b[39m \u001b[38;5;28;01mtry\u001b[39;00m:\n\u001b[32m     52\u001b[39m   ctx.ensure_initialized()\n\u001b[32m---> \u001b[39m\u001b[32m53\u001b[39m   tensors = \u001b[43mpywrap_tfe\u001b[49m\u001b[43m.\u001b[49m\u001b[43mTFE_Py_Execute\u001b[49m\u001b[43m(\u001b[49m\u001b[43mctx\u001b[49m\u001b[43m.\u001b[49m\u001b[43m_handle\u001b[49m\u001b[43m,\u001b[49m\u001b[43m \u001b[49m\u001b[43mdevice_name\u001b[49m\u001b[43m,\u001b[49m\u001b[43m \u001b[49m\u001b[43mop_name\u001b[49m\u001b[43m,\u001b[49m\n\u001b[32m     54\u001b[39m \u001b[43m                                      \u001b[49m\u001b[43minputs\u001b[49m\u001b[43m,\u001b[49m\u001b[43m \u001b[49m\u001b[43mattrs\u001b[49m\u001b[43m,\u001b[49m\u001b[43m \u001b[49m\u001b[43mnum_outputs\u001b[49m\u001b[43m)\u001b[49m\n\u001b[32m     55\u001b[39m \u001b[38;5;28;01mexcept\u001b[39;00m core._NotOkStatusException \u001b[38;5;28;01mas\u001b[39;00m e:\n\u001b[32m     56\u001b[39m   \u001b[38;5;28;01mif\u001b[39;00m name \u001b[38;5;129;01mis\u001b[39;00m \u001b[38;5;129;01mnot\u001b[39;00m \u001b[38;5;28;01mNone\u001b[39;00m:\n",
            "\u001b[31mKeyboardInterrupt\u001b[39m: "
          ]
        }
      ],
      "source": [
        "# @title Run embedding extraction process on ALL files in VocalSound\n",
        "\n",
        "# # Audio display options\n",
        "# SHOW_WAVEFORM = False\n",
        "# SHOW_SPECTROGRAM = False\n",
        "# SHOW_PLAYER = False\n",
        "# SHOW_CLIPS = False\n",
        "\n",
        "# # Clips of length CLIP_DURATION seconds are extracted from the audio file\n",
        "# # using a sliding window. Adjecent clips are overlapped by CLIP_OVERLAP_PERCENT.\n",
        "# CLIP_OVERLAP_PERCENT = 10\n",
        "\n",
        "# # When True, if a clip extracted from the file is quieter than\n",
        "# # the SILENCE_RMS_THRESHOLD_DB it is not sent to the HeAR model.\n",
        "# CLIP_IGNORE_SILENT_CLIPS = True\n",
        "# # Maximum average amplitude of a frame to be considered silence.\n",
        "# SILENCE_RMS_THRESHOLD_DB = -50\n",
        "\n",
        "# file_set = {'f0003_0_cough', 'f0003_0_laughter', 'f0003_0_sigh', 'f0003_0_sneeze',\n",
        "#             'f0003_0_sniff', 'f0003_0_throatclearing', 'm1411_0_cough',\n",
        "#             'm1411_0_laughter', 'm1411_0_sigh', 'm1411_0_sneeze', 'm1411_0_sniff',\n",
        "#             'm1411_0_throatclearing'}\n",
        "\n",
        "# for file in file_set:\n",
        "#   file_url = f'vs_release_16k/audio_16k/{file}.wav'\n",
        "#   # Load the audio file into numpy array with specified sample rate and 1 channel (mono).\n",
        "#   print(f\"\\nLoading file: {file} from {file_url}\")\n",
        "#   audio, sample_rate = librosa.load(file_url, sr=SAMPLE_RATE, mono=True)\n",
        "\n",
        "#   # Display audio file (optional)\n",
        "#   if SHOW_WAVEFORM:\n",
        "#     plot_waveform(audio, sample_rate, title=file, color='blue')\n",
        "#   if SHOW_SPECTROGRAM:\n",
        "#     plot_spectrogram(audio, sample_rate, file,  n_fft=2*1024, hop_length=64, n_mels=256, cmap='Blues')\n",
        "#   if SHOW_PLAYER:\n",
        "#     display(Audio(data=audio, rate=sample_rate))\n",
        "\n",
        "#   # This code segments an audio array into overlapping clips.\n",
        "#   # It calculates the number of clips, iterates through them,\n",
        "#   # and handles potential padding with zeros for the last clip if needed.\n",
        "#   clip_batch = []\n",
        "#   overlap_samples = int(CLIP_LENGTH * (CLIP_OVERLAP_PERCENT / 100))\n",
        "#   step_size = CLIP_LENGTH - overlap_samples\n",
        "#   num_clips = max(1, (len(audio) - overlap_samples) // step_size)\n",
        "#   print(f\" Segmenting into {num_clips} {CLIP_DURATION}s clips\")\n",
        "#   for i in range(num_clips):\n",
        "#     start_sample = i * step_size\n",
        "#     end_sample = start_sample + CLIP_LENGTH\n",
        "#     clip = audio[start_sample:end_sample]\n",
        "#     # Pad clip with zeros if less than the required CLIP_LENGTH.\n",
        "#     if end_sample > len(audio):\n",
        "#         print(\"  Last clip: Padding with zeros.\")\n",
        "#         clip = np.pad(clip, (0, CLIP_LENGTH - len(clip)), 'constant')\n",
        "#     # Average Loudness of the clip(in dB)\n",
        "#     rms_loudness =  round(20 * np.log10(np.sqrt(np.mean(clip**2))))\n",
        "\n",
        "#     # Display clip info (optional)\n",
        "#     clip_str = f\"Clip {i+1} from {file} [loudness: {rms_loudness} dB]\"\n",
        "#     print(f\"  {clip_str}\")\n",
        "#     if SHOW_CLIPS:\n",
        "#       if SHOW_WAVEFORM:\n",
        "#         plot_waveform(clip, sample_rate, title=clip_str, figsize=(8, 3), color=cm.rainbow(i /num_clips))\n",
        "#       if SHOW_PLAYER:\n",
        "#         display(Audio(data=clip, rate=sample_rate))\n",
        "\n",
        "#     # Skip if clip is too quiet\n",
        "#     if CLIP_IGNORE_SILENT_CLIPS and rms_loudness < SILENCE_RMS_THRESHOLD_DB:\n",
        "#       print(f\"  Clip {i+1} Skip...too quiet [loudness: {rms_loudness} dB]\")\n",
        "#       continue\n",
        "\n",
        "#     # Add clip to batch\n",
        "#     clip_batch.append(clip)\n",
        "\n",
        "\n",
        "#   # Perform HeAR Batch inference to extract the associated clip embedding.\n",
        "#   # Only run inference if embedding not already in file_embedding cache.\n",
        "#   clip_batch = np.asarray(clip_batch)\n",
        "#   if file not in file_embeddings:\n",
        "#     print(\"  Clip not in cache, performing inference...\")\n",
        "\n",
        "#     start = time.time()\n",
        "#     embedding_batch = hear_layer(clip_batch)['output_0'].numpy()\n",
        "#     #embedding_batch = infer(x=clip_batch)['output_0'].numpy()\n",
        "#     end = time.time()\n",
        "#     print(\"Elapsed:\", end - start, \"seconds\")\n",
        "#     file_embeddings[file] = embedding_batch\n",
        "#   else:\n",
        "#     embedding_batch = file_embeddings[file]\n",
        "#   print(f\"  Embedding batch shape: {embedding_batch.shape}, data type: {embedding_batch.dtype}\")\n",
        "\n",
        "\n",
        "import os\n",
        "import glob\n",
        "import numpy as np\n",
        "import pandas as pd\n",
        "import librosa\n",
        "import time\n",
        "import csv\n",
        "# Import other necessary libraries (hear_layer, SAMPLE_RATE, CLIP_DURATION, etc.)\n",
        "# ... (Assuming hear_layer, SAMPLE_RATE, CLIP_LENGTH are defined globally)\n",
        "\n",
        "# --- Configuration Constants (Assuming these are defined earlier) ---\n",
        "# SAMPLE_RATE = 16000 # Example: must match HeAR model\n",
        "# CLIP_DURATION = 2   # Example: must match HeAR model\n",
        "# CLIP_LENGTH = SAMPLE_RATE * CLIP_DURATION\n",
        "\n",
        "# Audio display options (kept for completeness, but disabled)\n",
        "SHOW_WAVEFORM = False\n",
        "SHOW_SPECTROGRAM = False\n",
        "SHOW_PLAYER = False\n",
        "SHOW_CLIPS = False\n",
        "\n",
        "CLIP_OVERLAP_PERCENT = 10\n",
        "CLIP_IGNORE_SILENT_CLIPS = True\n",
        "SILENCE_RMS_THRESHOLD_DB = -50\n",
        "# ------------------------------------------------------------------\n",
        "\n",
        "# --- 1. Load and Process Metadata ---\n",
        "METADATA_PATH = 'vs_release_16k/meta/all_meta.csv'\n",
        "\n",
        "# Create a more structured metadata mapping, linking file prefix (e.g., 'f0003') to speaker attributes\n",
        "metadata_map = {}\n",
        "with open(METADATA_PATH, newline='') as csvfile:\n",
        "    reader = csv.DictReader(csvfile, fieldnames=['id', 'gender', 'age', 'native_language', 'country', 'health'])\n",
        "    # Skip the first row if it's a header or description you don't need\n",
        "    # next(reader)\n",
        "    for row in reader:\n",
        "        # The key is the speaker ID (e.g., 'f0003', 'm1411')\n",
        "        metadata_map[row['id']] = row\n",
        "\n",
        "print(f\"Loaded metadata for {len(metadata_map)} unique speakers.\")\n",
        "\n",
        "# --- 2. Find All Audio Files ---\n",
        "AUDIO_DIR = 'vs_release_16k/audio_16k'\n",
        "all_file_paths = glob.glob(os.path.join(AUDIO_DIR, '*.wav'))\n",
        "print(f\"Found {len(all_file_paths)} audio files in the dataset.\")\n",
        "\n",
        "# --- 3. Initialize Storage Arrays ---\n",
        "all_embeddings = []\n",
        "all_metadata_rows = []\n",
        "embedding_dimension = 512\n",
        "\n",
        "# print(all_file_paths) the long version, e.g. 'vs_release_16k/audio_16k/f1236_0_sigh.wav'\n",
        "\n",
        "# --- 4. Processing Loop for ALL Files ---\n",
        "start_total_time = time.time()\n",
        "file_embeddings_cache = {} # Use this to avoid re-running inference on the same file in one session\n",
        "\n",
        "for i, file_path in enumerate(all_file_paths):\n",
        "    # Basename extracts the folders, e.g. vs_release_16k/audio_16k/f1236_0_sigh.wav --> f1236_0_sigh.wav\n",
        "    base_file_name = os.path.basename(file_path).replace('.wav', '')\n",
        "    # Example base_file_name: 'f0003_0_cough'\n",
        "\n",
        "    # # NOTE: For some reason this audio is empty\n",
        "    # missing_audio_files = {'f0098_0_sneeze', 'm0072_0_throatclearing'}\n",
        "\n",
        "    # if base_file_name in missing_audio_files:\n",
        "    #     continue\n",
        "\n",
        "    # --- Parse File Info and Get Metadata ---\n",
        "    try:\n",
        "        parts = base_file_name.split('_')\n",
        "        speaker_id = parts[0]\n",
        "        sound_type = parts[-1] # 'cough', 'laughter', etc.\n",
        "        speaker_metadata = metadata_map.get(speaker_id, {})\n",
        "    except IndexError:\n",
        "        print(f\"Skipping malformed filename: {base_file_name}\")\n",
        "        continue\n",
        "\n",
        "    if i % 1000 == 0:\n",
        "        print(f\"\\nProcessing file {i}/{len(all_file_paths)}: {base_file_name}\")\n",
        "\n",
        "    # --- A. Load Audio ---\n",
        "    try:\n",
        "        audio, sample_rate = librosa.load(file_path, sr=SAMPLE_RATE, mono=True)\n",
        "    except Exception as e:\n",
        "        print(f\"  Error loading audio for {base_file_name}: {e}\")\n",
        "        continue\n",
        "\n",
        "    # 1. Check if the audio array is completely empty\n",
        "    if audio.size == 0:\n",
        "        print(f\"  Skipping {base_file_name}: Audio file is empty (size=0).\")\n",
        "        continue\n",
        "\n",
        "    # 2. Check if the file is too short to even form one full clip\n",
        "    # CLIP_LENGTH must be defined as SAMPLE_RATE * CLIP_DURATION (e.g., 16000 * 2 = 32000 samples)\n",
        "    if len(audio) < CLIP_LENGTH:\n",
        "        print(f\"  Skipping {base_file_name}: Audio is too short ({len(audio)} samples) to create a {CLIP_DURATION}s clip.\")\n",
        "        continue\n",
        "\n",
        "    # Display audio file (optional)\n",
        "    if SHOW_WAVEFORM:\n",
        "        plot_waveform(audio, sample_rate, title=file, color='blue')\n",
        "    if SHOW_SPECTROGRAM:\n",
        "        plot_spectrogram(audio, sample_rate, file,  n_fft=2*1024, hop_length=64, n_mels=256, cmap='Blues')\n",
        "    if SHOW_PLAYER:\n",
        "        display(Audio(data=audio, rate=sample_rate))\n",
        "\n",
        "    # --- B. Segment into Clips and Filter Silence (Your Existing Logic) ---\n",
        "    clip_batch = []\n",
        "    overlap_samples = int(CLIP_LENGTH * (CLIP_OVERLAP_PERCENT / 100))\n",
        "    step_size = CLIP_LENGTH - overlap_samples\n",
        "    num_clips = max(1, (len(audio) - overlap_samples) // step_size)\n",
        "\n",
        "    print(file_path)\n",
        "\n",
        "    for j in range(num_clips):\n",
        "        start_sample = j * step_size\n",
        "        end_sample = start_sample + CLIP_LENGTH\n",
        "        clip = audio[start_sample:end_sample]\n",
        "\n",
        "        # Padding (if needed for the last clip)\n",
        "        if end_sample > len(audio):\n",
        "            clip = np.pad(clip, (0, CLIP_LENGTH - len(clip)), 'constant')\n",
        "\n",
        "        # Silence Filtering\n",
        "        mean_squared_amplitude = np.mean(clip**2)\n",
        "\n",
        "        if mean_squared_amplitude == 0:\n",
        "            # Handle entirely silent clips\n",
        "            rms_loudness = SILENCE_RMS_THRESHOLD_DB - 10\n",
        "        else:\n",
        "            rms_loudness = round(20 * np.log10(np.sqrt(mean_squared_amplitude)))\n",
        "\n",
        "        if SHOW_CLIPS:\n",
        "            if SHOW_WAVEFORM:\n",
        "                plot_waveform(clip, sample_rate, title=clip_str, figsize=(8, 3), color=cm.rainbow(i /num_clips))\n",
        "            if SHOW_PLAYER:\n",
        "                display(Audio(data=clip, rate=sample_rate))\n",
        "\n",
        "        if CLIP_IGNORE_SILENT_CLIPS and rms_loudness < SILENCE_RMS_THRESHOLD_DB:\n",
        "            continue\n",
        "\n",
        "        clip_batch.append(clip)\n",
        "\n",
        "    # Skip files with no valid/non-silent clips\n",
        "    if not clip_batch:\n",
        "        print(f\"  Skipping {base_file_name}: No non-silent clips found.\")\n",
        "        continue\n",
        "\n",
        "    # --- C. HeAR Inference (Batch) ---\n",
        "    clip_batch = np.asarray(clip_batch)\n",
        "\n",
        "    if base_file_name not in file_embeddings_cache:\n",
        "        # print(\"  Performing batch inference...\")\n",
        "\n",
        "        ## THIS IS WHERE WE ACTUALLY RUN THE HEAR MODEL\n",
        "        embedding_batch = hear_layer(clip_batch)['output_0'].numpy()\n",
        "        file_embeddings_cache[base_file_name] = embedding_batch\n",
        "    else:\n",
        "        embedding_batch = file_embeddings_cache[base_file_name]\n",
        "\n",
        "    # --- D. Calculate the MEAN Embedding (The key step for full-file representation) ---\n",
        "    # Shape of embedding_batch is (num_clips, embedding_dimension)\n",
        "    # The mean is taken across the clips (axis=0) to get one vector (embedding_dimension)\n",
        "    mean_embedding = np.mean(embedding_batch, axis=0)\n",
        "    all_embeddings.append(mean_embedding)\n",
        "\n",
        "    # --- E. Store Metadata ---\n",
        "    # Create a single dictionary row with all relevant information\n",
        "    metadata_row = {\n",
        "        'file_name': base_file_name,\n",
        "        'sound_type': sound_type,\n",
        "        'clip_count': len(clip_batch),\n",
        "        'speaker_id': speaker_id,\n",
        "        **speaker_metadata # Merge speaker-level metadata\n",
        "    }\n",
        "    all_metadata_rows.append(metadata_row)\n",
        "\n",
        "end_total_time = time.time()\n",
        "print(\"\\n\" + \"=\"*50)\n",
        "print(f\"Total time for processing all files: {end_total_time - start_total_time:.2f} seconds.\")\n",
        "print(f\"Successfully processed and embedded {len(all_embeddings)} files.\")\n",
        "print(f\"Final Embeddings Array Shape: ({len(all_embeddings)}, {embedding_dimension})\")\n",
        "print(\"=\"*50)\n",
        "\n",
        "# # --- 5. Finalize and Save to Disk ---\n",
        "\n",
        "# Convert lists to final NumPy array and Pandas DataFrame\n",
        "final_embeddings_np = np.array(all_embeddings)\n",
        "final_metadata_df = pd.DataFrame(all_metadata_rows)\n",
        "\n",
        "# Define file names for saving\n",
        "EMBEDDINGS_FILE = 'vocalsound_hear_embeddings.npy'\n",
        "METADATA_FILE = 'vocalsound_hear_metadata.csv'\n",
        "\n",
        "# Save the large NumPy array (embeddings)\n",
        "np.save(EMBEDDINGS_FILE, final_embeddings_np)\n",
        "print(f\"Saved embeddings to: {EMBEDDINGS_FILE}\")\n",
        "\n",
        "# Save the metadata (file_name, sound_type, speaker info)\n",
        "final_metadata_df.to_csv(METADATA_FILE, index=False)\n",
        "print(f\"Saved metadata to: {METADATA_FILE}\")"
      ]
    },
    {
      "cell_type": "code",
      "execution_count": 15,
      "metadata": {},
      "outputs": [
        {
          "name": "stdout",
          "output_type": "stream",
          "text": [
            "Loaded embeddings. Shape: (20237, 512)\n",
            "Loaded metadata. Shape: (20237, 10)\n"
          ]
        }
      ],
      "source": [
        "# Load it all back\n",
        "import numpy as np\n",
        "import pandas as pd\n",
        "import os\n",
        "\n",
        "# --- Configuration for Loading ---\n",
        "EMBEDDINGS_FILE = 'vocalsound_hear_embeddings.npy'\n",
        "METADATA_FILE = 'vocalsound_hear_metadata.csv'\n",
        "\n",
        "# --- 1. Load Embeddings ---\n",
        "if os.path.exists(EMBEDDINGS_FILE):\n",
        "    # Load the NumPy array containing the mean embeddings\n",
        "    embeddings = np.load(EMBEDDINGS_FILE)\n",
        "    print(f\"Loaded embeddings. Shape: {embeddings.shape}\")\n",
        "else:\n",
        "    print(f\"Error: Embeddings file not found at {EMBEDDINGS_FILE}\")\n",
        "    # You might want to exit or raise an error here if the file is mandatory\n",
        "    raise FileNotFoundError(f\"Embeddings file not found: {EMBEDDINGS_FILE}\")\n",
        "\n",
        "\n",
        "# --- 2. Load Metadata ---\n",
        "if os.path.exists(METADATA_FILE):\n",
        "    # Load the CSV containing all the file and speaker metadata\n",
        "    metadata_df = pd.read_csv(METADATA_FILE)\n",
        "    print(f\"Loaded metadata. Shape: {metadata_df.shape}\")\n",
        "else:\n",
        "    print(f\"Error: Metadata file not found at {METADATA_FILE}\")\n",
        "    raise FileNotFoundError(f\"Metadata file not found: {METADATA_FILE}\")\n",
        "\n",
        "# Sanity Check: Ensure the number of embeddings matches the number of metadata rows\n",
        "if embeddings.shape[0] != metadata_df.shape[0]:\n",
        "    print(f\"WARNING: Mismatch between embeddings ({embeddings.shape[0]}) and metadata ({metadata_df.shape[0]}) rows.\")\n",
        "    # Proceed, but note that this could indicate an issue in the processing step."
      ]
    },
    {
      "cell_type": "code",
      "execution_count": 16,
      "metadata": {},
      "outputs": [
        {
          "name": "stdout",
          "output_type": "stream",
          "text": [
            "20237\n",
            "20237\n",
            "[[-1.5076747  -0.05841772 -1.3659703  ...  7.5986466   1.5381771\n",
            "   4.02949   ]\n",
            " [-2.3041425  -1.0534989  -0.29738647 ... 11.167413   -1.2127879\n",
            "   5.8057303 ]\n",
            " [-0.745519   -3.5817745   2.9018955  ...  4.681165    0.7297609\n",
            "   4.2159386 ]\n",
            " ...\n",
            " [-2.1963046   2.4304621  -3.8209593  ... 10.771981    1.687137\n",
            "   6.463884  ]\n",
            " [-2.925953   -0.2207841   2.344604   ...  4.494924    5.045117\n",
            "   5.30715   ]\n",
            " [-2.4463775   0.16982026  0.7550093  ...  8.677674    1.3125969\n",
            "   6.467593  ]]\n",
            "                    file_name      sound_type  clip_count speaker_id     id  \\\n",
            "0                f1236_0_sigh            sigh           1      f1236  f1236   \n",
            "1      f1541_0_throatclearing  throatclearing           2      f1541  f1541   \n",
            "2               m1679_0_sniff           sniff           1      m1679  m1679   \n",
            "3      m1783_0_throatclearing  throatclearing           1      m1783  m1783   \n",
            "4            f1291_0_laughter        laughter           1      f1291  f1291   \n",
            "...                       ...             ...         ...        ...    ...   \n",
            "20232        m2255_0_laughter        laughter           1      m2255  m2255   \n",
            "20233  f2386_0_throatclearing  throatclearing           1      f2386  f2386   \n",
            "20234  m2144_0_throatclearing  throatclearing           3      m2144  m2144   \n",
            "20235        m0589_1_laughter        laughter           2      m0589  m0589   \n",
            "20236           m0329_0_cough           cough           1      m0329  m0329   \n",
            "\n",
            "        gender  age            native_language country health  \n",
            "0       female   27   United States of America      EN     no  \n",
            "1       female   25   United States of America      EN     no  \n",
            "2         male   34   United States of America      EN     no  \n",
            "3         male   19       United Arab Erimates      AR     no  \n",
            "4       female   23                      Italy      IT     no  \n",
            "...        ...  ...                        ...     ...    ...  \n",
            "20232     male   26   United States of America      EN     no  \n",
            "20233   female   26   United States of America      EN     no  \n",
            "20234     male   26                      Egypt      AR     no  \n",
            "20235     male   36   United States of America      EN     no  \n",
            "20236     male   43             United Kingdom      EN     no  \n",
            "\n",
            "[20237 rows x 10 columns]\n"
          ]
        }
      ],
      "source": [
        "print(len(embeddings))\n",
        "print(len(metadata_df))\n",
        "\n",
        "print(embeddings)\n",
        "print(metadata_df)"
      ]
    },
    {
      "cell_type": "markdown",
      "metadata": {},
      "source": [
        "Verify that embeddings were generated correctly (rows in metadata match corresponding rows in embedding)"
      ]
    },
    {
      "cell_type": "code",
      "execution_count": 25,
      "metadata": {},
      "outputs": [
        {
          "name": "stdout",
          "output_type": "stream",
          "text": [
            "Metadata for f0673_0_throatclearing\n",
            "file_name             f0673_0_throatclearing\n",
            "sound_type                    throatclearing\n",
            "clip_count                                 2\n",
            "speaker_id                             f0673\n",
            "id                                     f0673\n",
            "gender                                female\n",
            "age                                       30\n",
            "native_language     United States of America\n",
            "country                                   EN\n",
            "health                                    no\n",
            "Name: 12365, dtype: object\n",
            "Fetching embedding for f0673_0_throatclearing from vocalsound_hear_embeddings.npy\n",
            "Manually compute embedding for f0673_0_throatclearing\n",
            "L2 distance between both embeddings: 0.000000\n"
          ]
        }
      ],
      "source": [
        "# Manually verify that the embeddings were generated correctly, and that\n",
        "# rows in metadata match corresponding rows in embedding\n",
        "file_embeddings = {}\n",
        "import os\n",
        "import glob\n",
        "import numpy as np\n",
        "import pandas as pd\n",
        "import librosa\n",
        "import time\n",
        "import csv\n",
        "\n",
        "# Off by 2 error because 1. csv is 1-indexed, 2. 1st row of csv is attribute names\n",
        "#print(\"First entry in metadata\")\n",
        "#print(metadata_df.iloc[0]) # Actually row 2 in our csv: f1236_0_sigh\n",
        "\n",
        "# Row 12367 of vocalsound_hear_metadata.csv: f0673_0_throatclearing.wav\n",
        "print(\"Metadata for f0673_0_throatclearing\")\n",
        "print(metadata_df.iloc[12365])\n",
        "print(\"Fetching embedding for f0673_0_throatclearing from \" + EMBEDDINGS_FILE)\n",
        "\n",
        "# Now we run the embedding scheme\" manually, and verify that same row of\n",
        "# metadata_df and embeddings correspond to the same vector\n",
        "\n",
        "# Run the embedding pipeline manually for f0673_0_throatclearing.wav\n",
        "\n",
        "print(\"Manually compute embedding for f0673_0_throatclearing\")\n",
        "\n",
        "CLIP_OVERLAP_PERCENT = 10\n",
        "CLIP_IGNORE_SILENT_CLIPS = True\n",
        "SILENCE_RMS_THRESHOLD_DB = -50\n",
        "\n",
        "file_set = {'f0673_0_throatclearing'}\n",
        "test_embedding = []\n",
        "\n",
        "for file in file_set:\n",
        "  file_url = f'vs_release_16k/audio_16k/{file}.wav'\n",
        "  # Load the audio file into numpy array with specified sample rate and 1 channel (mono).\n",
        "  audio, sample_rate = librosa.load(file_url, sr=SAMPLE_RATE, mono=True)\n",
        "\n",
        "  clip_batch = []\n",
        "  overlap_samples = int(CLIP_LENGTH * (CLIP_OVERLAP_PERCENT / 100))\n",
        "  step_size = CLIP_LENGTH - overlap_samples\n",
        "  num_clips = max(1, (len(audio) - overlap_samples) // step_size)\n",
        "  for i in range(num_clips):\n",
        "    start_sample = i * step_size\n",
        "    end_sample = start_sample + CLIP_LENGTH\n",
        "    clip = audio[start_sample:end_sample]\n",
        "    # Pad clip with zeros if less than the required CLIP_LENGTH.\n",
        "    if end_sample > len(audio):\n",
        "        clip = np.pad(clip, (0, CLIP_LENGTH - len(clip)), 'constant')\n",
        "    # Average Loudness of the clip(in dB)\n",
        "    rms_loudness =  round(20 * np.log10(np.sqrt(np.mean(clip**2))))\n",
        "\n",
        "    # Skip if clip is too quiet\n",
        "    if CLIP_IGNORE_SILENT_CLIPS and rms_loudness < SILENCE_RMS_THRESHOLD_DB:\n",
        "      print(f\"  Clip {i+1} Skip...too quiet [loudness: {rms_loudness} dB]\")\n",
        "      continue\n",
        "\n",
        "    # Add clip to batch\n",
        "    clip_batch.append(clip)\n",
        "\n",
        "  # Perform HeAR Batch inference to extract the associated clip embedding.\n",
        "  # Only run inference if embedding not already in file_embedding cache.\n",
        "  clip_batch = np.asarray(clip_batch)\n",
        "\n",
        "  if file not in file_embeddings:\n",
        "    embedding_batch = hear_layer(clip_batch)['output_0'].numpy()\n",
        "    file_embeddings[file] = embedding_batch\n",
        "  else:\n",
        "    embedding_batch = file_embeddings[file]\n",
        "\n",
        "  # Calculate the MEAN embedding\n",
        "  mean_embedding = np.mean(embedding_batch, axis=0)\n",
        "  test_embedding.append(mean_embedding)\n",
        "\n",
        "\n",
        "test_embedding = np.array(test_embedding)\n",
        "\n",
        "import numpy as np\n",
        "\n",
        "diff = test_embedding[0] - embeddings[12365]\n",
        "l2_distance = np.linalg.norm(diff)\n",
        "\n",
        "print(f\"L2 distance between both embeddings: {l2_distance:.6f}\")\n",
        "\n"
      ]
    },
    {
      "cell_type": "markdown",
      "metadata": {},
      "source": [
        "#### Use HeAR embeddings to find most similar audio file to a query file"
      ]
    },
    {
      "cell_type": "code",
      "execution_count": 52,
      "metadata": {},
      "outputs": [
        {
          "name": "stdout",
          "output_type": "stream",
          "text": [
            "Finding the most similar audio file to m3148_0_laughter\n",
            "\n",
            "Top 3 most similar entries to 'm3148_0_laughter':\n",
            "  f3299_0_laughter\n",
            "  m2335_0_laughter\n",
            "  m0612_0_laughter\n"
          ]
        }
      ],
      "source": [
        "# @title Use HeAR embeddings to find the most similar audio file to a query file\n",
        "\n",
        "# Select a random audio embedding file\n",
        "import random\n",
        "from scipy.spatial import distance\n",
        "query_index = random.randint(0, 20236)\n",
        "query_file = metadata_df.iloc[query_index]['file_name']\n",
        "\n",
        "# e.g. f3063_0_throatclearing\n",
        "print(\"Finding the most similar audio file to \" + query_file)\n",
        "\n",
        "query_embedding = embeddings[query_index]\n",
        "similarities = {}\n",
        "\n",
        "for i in range(len(embeddings)):\n",
        "    if i == query_index:\n",
        "      continue\n",
        "    current_embedding = embeddings[i]\n",
        "    similarities[i] = 1 - distance.cosine(query_embedding, current_embedding)\n",
        "\n",
        "# Find the top N most similar entries\n",
        "N = 3\n",
        "top_N_similar = dict(sorted(similarities.items(), key=lambda item: item[1], reverse=True)[:N])\n",
        "print(f\"\\nTop {N} most similar entries to '{query_file}':\")\n",
        "for index, similarity in top_N_similar.items():\n",
        "    print(f\"  {metadata_df.iloc[index]['file_name']}\")\n"
      ]
    },
    {
      "cell_type": "code",
      "execution_count": null,
      "metadata": {
        "id": "dEuQRsS3D52y"
      },
      "outputs": [],
      "source": [
        "# @title Train a few-shot cough classifier with HeAR embeddings\n",
        "%%time\n",
        "from sklearn.svm import SVC\n",
        "from sklearn.neural_network import MLPClassifier\n",
        "from sklearn.linear_model import LogisticRegression\n",
        "from sklearn.ensemble import RandomForestClassifier, GradientBoostingClassifier\n",
        "from sklearn.gaussian_process import GaussianProcessClassifier\n",
        "\n",
        "# True if file has coughing (not perfect as some parts of file may not have coughing)\n",
        "file_cough_labels = {\n",
        "    'Laughter.ogg': False,\n",
        "    'Cough_1.ogg': True,\n",
        "    'Windy_breath.ogg': False,\n",
        "    'Man_coughing.ogg': True,\n",
        "    'Cough_2.ogg': True,\n",
        "    'Woman_coughing_three_times.wav': True,\n",
        "    'Short_coughs.ogg': True,\n",
        "    'Laughter_and_clearing_voice.ogg': False,\n",
        "    'Sneezing.ogg': False,\n",
        "    'Knocking_on_wood_or_door.ogg': False,\n",
        "    'recording.webm': True,\n",
        "    'my_recording.webm': True,\n",
        "\n",
        "}\n",
        "cough_labels = []\n",
        "for file_name in train_file_names:\n",
        "  if file_name in file_cough_labels:\n",
        "    cough_labels.append(1 if file_cough_labels[file_name] else 0)\n",
        "  elif \"cough\" in file_name.lower():\n",
        "    cough_labels.append(1)\n",
        "  else:\n",
        "    cough_labels.append(0)\n",
        "    print(f\"Warning: No label found for '{file_name}'. Defaulting to False.\")\n",
        "\n",
        "# Train more powerful classifier models\n",
        "models = {\n",
        "    \"Support Vector Machine (linear)\": SVC(kernel='linear'),\n",
        "    \"Logistic Regression\": LogisticRegression(),\n",
        "    \"Gradient Boosting\": GradientBoostingClassifier(n_estimators=128),\n",
        "    \"Random Forest\": RandomForestClassifier(n_estimators=128),\n",
        "    \"MLP Classifier\": MLPClassifier(hidden_layer_sizes=(128, 64)),\n",
        "}\n",
        "\n",
        "cough_models = {}\n",
        "for name, model in models.items():\n",
        "  model.fit(train_embeddings, cough_labels)\n",
        "  cough_models[name] = model\n",
        "  print(f\"Finished training: {name}\")\n"
      ]
    },
    {
      "cell_type": "code",
      "execution_count": null,
      "metadata": {
        "id": "OJuJFxrwHXL3"
      },
      "outputs": [],
      "source": [
        "# @title Classify Held Out Test Example\n",
        "\n",
        "print(f\"Classifying {len(test_embeddings)} embeddings from {test_file} with the {len(cough_models)} models...\")\n",
        "for model_name, cough_model in cough_models.items():\n",
        "  # Note: Since the clip is divided into CLIP_DURATION length subclips, some\n",
        "  # clips will contain the cough while others wont. Since we want to know if\n",
        "  # ANY clip from this test file contains a cough, can check max(predcitions).\n",
        "  # If we want to know where in the clip the coughs occur we can look at\n",
        "  # which clip indices classified 1 (cough)\n",
        "  prediction = cough_model.predict(test_embeddings).max()\n",
        "  print(f\" {model_name} Classification: {'Cough' if prediction == 1 else 'No Cough'}\")"
      ]
    },
    {
      "cell_type": "code",
      "execution_count": null,
      "metadata": {
        "id": "0_sPZY4I_gbV"
      },
      "outputs": [],
      "source": [
        "# @title Record and Classify Cough\n",
        "recording_filename = \"my_test_cough\" # will overwrite existing\n",
        "recording_file = record_microphone_and_save(duration_seconds=CLIP_DURATION, filename=recording_filename)\n",
        "recording_clip = librosa.load(recording_file, sr=SAMPLE_RATE)[0]\n",
        "print(f\"Loaded Test file {recording_filename}, audio has shape: {recording_clip.shape}\")\n",
        "\n",
        "print(f\"Generate HeAR embedding for {recording_filename}\")\n",
        "# Note: Since the recording is exactly CLIP_DURATION seconds, we will have a\n",
        "# single clip and produce a single embedding.\n",
        "recording_batch = np.expand_dims(np.pad(recording_clip, (0, CLIP_LENGTH - len(recording_clip)), 'constant'), axis=0)\n",
        "recording_embedding = infer(x=recording_batch)['output_0'].numpy()\n",
        "print(f\"Embedding has shape: {recording_embedding.shape}\")\n",
        "\n",
        "# Classify recorded file with each classifier.\n",
        "print(f\"\\nClassifying test file: {recording_filename} using {len(cough_models)} models...\")\n",
        "for model_name, cough_model in cough_models.items():\n",
        "  # Note: Similar to the above held out example, we will have a prediction for\n",
        "  # each clip within the file, in this case we have one clip from the recording.\n",
        "  prediction = cough_model.predict(recording_embedding).max() # or [0]\n",
        "  print(f\" {model_name} Classification: {'Cough' if prediction == 1 else 'No Cough'}\")\n",
        "\n",
        "# Player for recorded clip\n",
        "Audio(data=recording_clip, rate=SAMPLE_RATE)\n"
      ]
    },
    {
      "cell_type": "code",
      "execution_count": null,
      "metadata": {
        "id": "9zr2A1cZY0Hm"
      },
      "outputs": [],
      "source": [
        "# @title Plot Embeddings as Barcode Figures\n",
        "\n",
        "# Note: We subtract the mean embedding so plots highlight the differences.\n",
        "embedding_mean = np.mean(train_embeddings, axis=0)\n",
        "for file_key, embedding_batch in file_embeddings.items():\n",
        "  batch_size = embedding_batch.shape[0]\n",
        "  embedding_batch_norm = embedding_batch - embedding_mean\n",
        "  print(f\"{file_key} has {batch_size} embeddings...\")\n",
        "\n",
        "  plt.figure(figsize=(18, 1 * embedding_batch.shape[0]))\n",
        "  for i in range(batch_size):\n",
        "    embedding_magnitude = embedding_batch_norm[i, :] ** 2\n",
        "    plt.subplot(batch_size, 1, i + 1)\n",
        "    plt.imshow(embedding_magnitude.reshape(1, -1), cmap='binary',  interpolation=None, aspect='auto')\n",
        "    plt.title(f\"Embedding {i+1}, File: {file_key}\")\n",
        "    plt.xticks([])\n",
        "    plt.yticks([])\n",
        "  plt.tight_layout()\n",
        "  plt.show()"
      ]
    },
    {
      "cell_type": "markdown",
      "metadata": {
        "id": "PHTxQttKYNpa"
      },
      "source": [
        "# Next steps\n",
        "\n",
        "Explore the other [notebooks](https://github.com/google-health/hear/blob/master/notebooks) to learn what else you can do with the model."
      ]
    }
  ],
  "metadata": {
    "colab": {
      "name": "train_data_efficient_classifier.ipynb",
      "private_outputs": true,
      "provenance": []
    },
    "kernelspec": {
      "display_name": ".venv (3.13.7)",
      "language": "python",
      "name": "python3"
    },
    "language_info": {
      "codemirror_mode": {
        "name": "ipython",
        "version": 3
      },
      "file_extension": ".py",
      "mimetype": "text/x-python",
      "name": "python",
      "nbconvert_exporter": "python",
      "pygments_lexer": "ipython3",
      "version": "3.13.7"
    }
  },
  "nbformat": 4,
  "nbformat_minor": 0
}
